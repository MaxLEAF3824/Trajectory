{
 "cells": [
  {
   "cell_type": "code",
   "execution_count": 3,
   "metadata": {},
   "outputs": [],
   "source": [
    "import pandas as pd\n",
    "from utils import Timer, copy_file\n",
    "from joblib import Parallel, delayed\n",
    "from traj2grid import Traj2Grid\n",
    "import json\n",
    "import traj_dist.distance as tdist\n",
    "from logging import raiseExceptions\n",
    "from args import *\n",
    "import numpy as np\n",
    "import time\n",
    "\n",
    "timer = Timer()\n",
    "\n"
   ]
  },
  {
   "cell_type": "code",
   "execution_count": 8,
   "metadata": {},
   "outputs": [
    {
     "name": "stdout",
     "output_type": "stream",
     "text": [
      "tik start\n",
      "read data/1m_gps_20161101 done, 0.75s after tik start\n",
      "load dict done, 1.26s after tik start\n",
      "group-apply done, 11.509s after tik start\n"
     ]
    }
   ],
   "source": [
    "file_path = \"data/1m_gps_20161101\"\n",
    "dict_path = \"data/str_grid2idx_400.json\"\n",
    "full = False\n",
    "metric=\"edr\"\n",
    "eps=eps_400_eu\n",
    "\n",
    "# read data\n",
    "timer.tik()\n",
    "df = pd.DataFrame(pd.read_csv(file_path, header=None))\n",
    "df.columns = [\"name\", \"order_id\", \"time\", \"lon\", \"lat\"]  # lon经度 lat纬度\n",
    "timer.tok(\"read {}\".format(file_path))\n",
    "\n",
    "# load dict & set converter\n",
    "str_grid2idx = json.load(open(dict_path))\n",
    "t2g = Traj2Grid(row_num, column_num, min_lon, min_lat, max_lon, max_lat)\n",
    "grid2idx = {eval(g): str_grid2idx[g] for g in list(str_grid2idx)}\n",
    "t2g.set_vocab(grid2idx)\n",
    "timer.tok(\"load dict\")\n",
    "\n",
    "\n",
    "def group_concat(name, group: pd.DataFrame):\n",
    "    origin_traj = [((row[\"lon\"]), row[\"lat\"])\n",
    "                   for index, row in group.iterrows()]\n",
    "    traj_1d = t2g.convert1d(origin_traj)\n",
    "    series = pd.Series({\n",
    "        \"order_id\": name,\n",
    "        \"origin_trajs\": origin_traj,\n",
    "        \"trajs\": traj_1d,\n",
    "        \"len\": len(origin_traj),\n",
    "        \"max_time_diff\": group[\"time\"].diff().max(),\n",
    "        \"max_lon_diff\": group[\"lon\"].diff().max(),\n",
    "        \"max_lat_diff\": group[\"lat\"].diff().max(),\n",
    "    })\n",
    "    return series\n",
    "\n",
    "\n",
    "# group-apply\n",
    "res = Parallel(n_jobs=6)(delayed(group_concat)(name, group)\n",
    "                         for name, group in df.groupby(\"order_id\"))\n",
    "df = pd.DataFrame(res)\n",
    "timer.tok(\"group-apply\")\n",
    "\n"
   ]
  },
  {
   "cell_type": "code",
   "execution_count": 34,
   "metadata": {},
   "outputs": [
    {
     "name": "stdout",
     "output_type": "stream",
     "text": [
      "剩3407/5650条，筛掉40%\n"
     ]
    }
   ],
   "source": [
    "# filter\n",
    "t_diff_limit = 20\n",
    "lon_lat_diff_limit = 0.005\n",
    "length_limit = 50\n",
    "dff = df[\n",
    "    (df[\"max_time_diff\"] < t_diff_limit) &\n",
    "    (df[\"max_lon_diff\"] + df[\"max_lat_diff\"] < lon_lat_diff_limit) &\n",
    "    (df[\"len\"] > length_limit)\n",
    "]\n",
    "print(f\"剩{len(dff)}/{len(df)}条，筛掉{round(100 - 100 * len(dff) / len(df))}%\")\n"
   ]
  },
  {
   "cell_type": "code",
   "execution_count": 28,
   "metadata": {},
   "outputs": [
    {
     "data": {
      "text/plain": [
       "<AxesSubplot:>"
      ]
     },
     "execution_count": 28,
     "metadata": {},
     "output_type": "execute_result"
    },
    {
     "data": {
      "image/png": "[encoded data removed]",
      "text/plain": [
       "<Figure size 432x288 with 1 Axes>"
      ]
     },
     "metadata": {
      "needs_background": "light"
     },
     "output_type": "display_data"
    }
   ],
   "source": [
    "df[df['len']<400]['len'].hist(bins=200)"
   ]
  },
  {
   "cell_type": "code",
   "execution_count": null,
   "metadata": {},
   "outputs": [],
   "source": [
    "# calculate distance\n",
    "origin_trajs = df[\"origin_trajs\"].to_list()\n",
    "arr_trajs = [np.array(origin_traj) for origin_traj in origin_trajs]\n",
    "length = len(arr_trajs)\n",
    "dis_matrix = np.zeros((length, length))\n",
    "if metric == \"edr\":\n",
    "    def cal_dis(i, j, x, y, n):\n",
    "        dis = tdist.edr(x, y, eps=eps)\n",
    "        if i == j + 1:\n",
    "            timer.tok(f'{i}-{round((i * i) / (n * n) * 100, 2)}%')\n",
    "        return i, j, dis\n",
    "\n",
    "        res = Parallel(n_jobs=44)(\n",
    "            delayed(cal_dis)(i, j, arr_trajs[i], arr_trajs[j], length - 1) for i in range(length) for j in range(i))\n",
    "        timer.tok(\"calculate distance\")\n",
    "        for (i, j, dis) in res:\n",
    "            dis_matrix[i, j] = dis\n",
    "            dis_matrix[j, i] = dis\n",
    "else:\n",
    "    raiseExceptions(\"metric {} is not supported\".format(metric))\n",
    "sorted_index = np.argsort(dis_matrix, axis=1)\n",
    "dict_save = {'trajs': df[\"trajs\"].to_list(\n",
    "), \"sorted_index\": sorted_index.tolist(), 'origin_trajs': origin_trajs}\n",
    "if full:\n",
    "    dict_save[\"dis_matrix\"] = dis_matrix.tolist()\n",
    "    json.dump(dict_save, open(file_path + \"_dataset_full.json\", \"w\"))\n",
    "else:\n",
    "    json.dump(dict_save, open(file_path + \"_dataset.json\", \"w\"))\n",
    "timer.tok(\"save\")\n"
   ]
  }
 ],
 "metadata": {
  "kernelspec": {
   "display_name": "Python 3",
   "language": "python",
   "name": "python3"
  },
  "language_info": {
   "codemirror_mode": {
    "name": "ipython",
    "version": 3
   },
   "file_extension": ".py",
   "mimetype": "text/x-python",
   "name": "python",
   "nbconvert_exporter": "python",
   "pygments_lexer": "ipython3",
   "version": "3.8.12"
  }
 },
 "nbformat": 4,
 "nbformat_minor": 0
}
