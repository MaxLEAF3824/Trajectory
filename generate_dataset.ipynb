{
 "cells": [
  {
   "cell_type": "code",
   "execution_count": 51,
   "metadata": {},
   "outputs": [],
   "source": [
    "import numpy as np\n",
    "import json\n",
    "import pandas as pd\n",
    "from utils import Timer\n",
    "from joblib import Parallel, delayed\n",
    "from traj2grid import Traj2Grid\n",
    "import traj_dist.distance as tdist\n",
    "from parameters import *\n",
    "import numpy as np\n"
   ]
  },
  {
   "cell_type": "markdown",
   "metadata": {},
   "source": [
    "#### 读取数据\n"
   ]
  },
  {
   "cell_type": "code",
   "execution_count": 52,
   "metadata": {},
   "outputs": [
    {
     "name": "stdout",
     "output_type": "stream",
     "text": [
      "read data start\n",
      "read data/full/gps_20161101 done, 0.73s after read data start\n"
     ]
    },
    {
     "data": {
      "text/plain": [
       "0.7297332286834717"
      ]
     },
     "execution_count": 52,
     "metadata": {},
     "output_type": "execute_result"
    }
   ],
   "source": [
    "timer = Timer()\n",
    "\n",
    "file_path = \"data/full/gps_20161101\"\n",
    "dict_path = \"data/str_grid2idx_400_44612.json\"\n",
    "nrows = 1000000\n",
    "vocab_size = 400\n",
    "\n",
    "\n",
    "# read data\n",
    "timer.tik(\"read data\")\n",
    "df = pd.DataFrame(pd.read_csv(file_path, header=None, nrows=nrows))\n",
    "df.columns = [\"name\", \"id\", \"time\", \"lon\", \"lat\"]  # lon经度 lat纬度\n",
    "timer.tok(\"read {}\".format(file_path))\n"
   ]
  },
  {
   "cell_type": "markdown",
   "metadata": {},
   "source": [
    "#### 去除超出范围的数据点\n"
   ]
  },
  {
   "cell_type": "code",
   "execution_count": 53,
   "metadata": {},
   "outputs": [
    {
     "name": "stdout",
     "output_type": "stream",
     "text": [
      "剩948146/1000000个点，筛掉5%\n"
     ]
    }
   ],
   "source": [
    "pad = 0.002\n",
    "\n",
    "\n",
    "l = len(df)\n",
    "df = df[(df[\"lon\"] > 104.04214 + pad) & (df[\"lon\"] < 104.12958 - pad)]\n",
    "df = df[(df[\"lat\"] > 30.65294 + pad) & (df[\"lat\"] < 30.72775 - pad)]\n",
    "print(f\"剩{len(df)}/{l}个点，筛掉{round(100 - 100 * len(df) / l)}%\")\n"
   ]
  },
  {
   "cell_type": "markdown",
   "metadata": {},
   "source": [
    "#### GroupBy转换为1维点列"
   ]
  },
  {
   "cell_type": "code",
   "execution_count": 54,
   "metadata": {},
   "outputs": [
    {
     "name": "stdout",
     "output_type": "stream",
     "text": [
      "load dictdata/str_grid2idx_400_44612.json done, 1.455s after read data start\n",
      "group-apply done, 32.115s after read data start\n"
     ]
    },
    {
     "data": {
      "text/plain": [
       "32.11460018157959"
      ]
     },
     "execution_count": 54,
     "metadata": {},
     "output_type": "execute_result"
    }
   ],
   "source": [
    "str_grid2idx = json.load(open(dict_path))\n",
    "t2g = Traj2Grid(row_num, column_num, min_lon, min_lat, max_lon, max_lat)\n",
    "grid2idx = {eval(g): str_grid2idx[g] for g in list(str_grid2idx)}\n",
    "t2g.set_vocab(grid2idx)\n",
    "timer.tok(f\"load dict{dict_path}\")\n",
    "\n",
    "\n",
    "def group_concat(group: pd.DataFrame):\n",
    "    origin_traj = [((row[\"lon\"]), row[\"lat\"])\n",
    "                   for index, row in group.iterrows()]\n",
    "    traj_1d = t2g.convert1d(origin_traj)\n",
    "    series = pd.Series({\n",
    "        \"origin_trajs\": origin_traj,\n",
    "        \"trajs\": traj_1d,\n",
    "        \"origin_len\": len(origin_traj),\n",
    "        \"len\": len(traj_1d),\n",
    "        \"max_lon\": group[\"lon\"].max(),\n",
    "        \"max_lat\": group[\"lat\"].max(),\n",
    "        \"min_lon\": group[\"lon\"].min(),\n",
    "        \"min_lat\": group[\"lat\"].min(),\n",
    "    })\n",
    "    return series\n",
    "\n",
    "\n",
    "# group-apply\n",
    "res = Parallel(n_jobs=44)(delayed(group_concat)(group)for name, group in df.groupby(\"id\"))\n",
    "df = pd.DataFrame(res)\n",
    "timer.tok(\"group-apply\")\n"
   ]
  },
  {
   "cell_type": "markdown",
   "metadata": {},
   "source": [
    "##### 看看数据情况"
   ]
  },
  {
   "cell_type": "code",
   "execution_count": 55,
   "metadata": {},
   "outputs": [
    {
     "data": {
      "text/plain": [
       "count    5485.000000\n",
       "mean      103.222060\n",
       "std        72.892705\n",
       "min         1.000000\n",
       "25%        47.000000\n",
       "50%        92.000000\n",
       "75%       144.000000\n",
       "max       583.000000\n",
       "Name: len, dtype: float64"
      ]
     },
     "execution_count": 55,
     "metadata": {},
     "output_type": "execute_result"
    },
    {
     "data": {
      "image/png": "[encoded data removed]",
      "text/plain": [
       "<Figure size 432x288 with 1 Axes>"
      ]
     },
     "metadata": {
      "needs_background": "light"
     },
     "output_type": "display_data"
    }
   ],
   "source": [
    "df['len'].hist(bins=100)\n",
    "df['len'].describe()"
   ]
  },
  {
   "cell_type": "markdown",
   "metadata": {},
   "source": [
    "#### 过滤过长过短轨迹"
   ]
  },
  {
   "cell_type": "code",
   "execution_count": 56,
   "metadata": {},
   "outputs": [
    {
     "name": "stdout",
     "output_type": "stream",
     "text": [
      "剩5006/5485条轨迹，筛掉9%\n"
     ]
    }
   ],
   "source": [
    "dff = df[(df[\"len\"] > 10) & (df[\"len\"] < 256)]\n",
    "print(f\"剩{len(dff)}/{len(df)}条轨迹，筛掉{round(100 - 100 * len(dff) / len(df))}%\")\n"
   ]
  },
  {
   "cell_type": "markdown",
   "metadata": {},
   "source": [
    "#### 生成pair-wise轨迹距离矩阵\n"
   ]
  },
  {
   "cell_type": "code",
   "execution_count": 57,
   "metadata": {},
   "outputs": [
    {
     "name": "stdout",
     "output_type": "stream",
     "text": [
      "1-0.0% done, 33.005s after read data start\n",
      "101-0.04% done, 33.577s after read data start\n",
      "201-0.16% done, 34.576s after read data start\n",
      "301-0.36% done, 36.277s after read data start\n",
      "401-0.64% done, 38.826s after read data start\n",
      "501-1.0% done, 42.082s after read data start\n",
      "601-1.44% done, 46.751s after read data start\n",
      "701-1.96% done, 51.857s after read data start\n",
      "801-2.56% done, 57.418s after read data start\n",
      "901-3.24% done, 63.74s after read data start\n",
      "1001-4.0% done, 70.765s after read data start\n",
      "1101-4.84% done, 76.315s after read data start\n",
      "1201-5.76% done, 84.788s after read data start\n",
      "1301-6.76% done, 92.904s after read data start\n",
      "1401-7.84% done, 101.925s after read data start\n",
      "1501-8.99% done, 110.638s after read data start\n",
      "1601-10.23% done, 120.424s after read data start\n",
      "1701-11.55% done, 131.297s after read data start\n",
      "1801-12.95% done, 141.804s after read data start\n",
      "1901-14.43% done, 153.549s after read data start\n",
      "2001-15.98% done, 166.605s after read data start\n",
      "2101-17.62% done, 180.713s after read data start\n",
      "2201-19.34% done, 194.809s after read data start\n",
      "2301-21.14% done, 210.266s after read data start\n",
      "2401-23.01% done, 226.05s after read data start\n",
      "2501-24.97% done, 240.736s after read data start\n",
      "2601-27.01% done, 256.779s after read data start\n",
      "2701-29.12% done, 274.384s after read data start\n",
      "2801-31.32% done, 292.424s after read data start\n",
      "2901-33.6% done, 310.635s after read data start\n",
      "3001-35.95% done, 329.93s after read data start\n",
      "3101-38.39% done, 348.745s after read data start\n",
      "3201-40.9% done, 371.257s after read data start\n",
      "3301-43.5% done, 392.384s after read data start\n",
      "3401-46.17% done, 416.586s after read data start\n",
      "3501-48.93% done, 437.968s after read data start\n",
      "3601-51.77% done, 460.973s after read data start\n",
      "3701-54.68% done, 485.682s after read data start\n",
      "3801-57.67% done, 511.91s after read data start\n",
      "3901-60.75% done, 537.189s after read data start\n",
      "4001-63.9% done, 564.113s after read data start\n",
      "4101-67.14% done, 590.053s after read data start\n",
      "4201-70.45% done, 618.689s after read data start\n",
      "4301-73.85% done, 644.608s after read data start\n",
      "4401-77.32% done, 674.869s after read data start\n",
      "4501-80.87% done, 704.927s after read data start\n",
      "4601-84.51% done, 737.109s after read data start\n",
      "4701-88.22% done, 769.09s after read data start\n",
      "4801-92.01% done, 802.661s after read data start\n",
      "4901-95.89% done, 833.149s after read data start\n",
      "5001-99.84% done, 866.433s after read data start\n",
      "calculate distance done, 867.5s after read data start\n"
     ]
    }
   ],
   "source": [
    "# dff = dff.reset_index()\n",
    "origin_trajs = dff[\"origin_trajs\"].to_list()\n",
    "arr = [np.array(origin_traj) for origin_traj in origin_trajs]\n",
    "length = len(arr)\n",
    "dis_matrix = np.zeros((length, length))\n",
    "dis_func = getattr(tdist, \"discret_frechet\")\n",
    "\n",
    "\n",
    "def cal_dis(i, j, x, y, n):\n",
    "    dis = dis_func(x, y)\n",
    "    if i == j + 1 and i % 100 == 1:\n",
    "        timer.tok(f'{i}-{round((i * i) / (n * n) * 100, 2)}%')\n",
    "    return i, j, dis\n",
    "\n",
    "res = Parallel(n_jobs=44)(\n",
    "    delayed(cal_dis)(i, j, arr[i], arr[j], length - 1) for i in range(length) for j in range(i))\n",
    "timer.tok(\"calculate distance\")\n",
    "for (i, j, dis) in res:\n",
    "    dis_matrix[i,j] = dis\n",
    "    dis_matrix[j,i] = dis\n"
   ]
  },
  {
   "cell_type": "markdown",
   "metadata": {},
   "source": [
    "#### 生成 Train Dataset 第六步：保存"
   ]
  },
  {
   "cell_type": "code",
   "execution_count": 58,
   "metadata": {},
   "outputs": [
    {
     "name": "stdout",
     "output_type": "stream",
     "text": [
      "save done, 916.643s after read data start\n"
     ]
    },
    {
     "data": {
      "text/plain": [
       "916.6428894996643"
      ]
     },
     "execution_count": 58,
     "metadata": {},
     "output_type": "execute_result"
    }
   ],
   "source": [
    "full = True\n",
    "file_name = file_path.split(\"/\")[-1]\n",
    "save_path = \"data/test/\"\n",
    "file_path = save_path + file_name\n",
    "sorted_index = np.argsort(dis_matrix, axis=1)\n",
    "dict_save = {'trajs': dff[\"trajs\"].to_list(), \"sorted_index\": sorted_index.tolist(), 'origin_trajs': origin_trajs}\n",
    "if full:\n",
    "    dict_save[\"dis_matrix\"] = dis_matrix.tolist()\n",
    "    json.dump(dict_save, open(file_path + f\"_{sorted_index.shape[0]}_{vocab_size}_dataset_full.json\", \"w\"))\n",
    "else:\n",
    "    json.dump(dict_save, open(file_path + f\"_{sorted_index.shape[0]}_{vocab_size}_dataset_small.json\", \"w\"))\n",
    "timer.tok(\"save\")\n"
   ]
  }
 ],
 "metadata": {
  "kernelspec": {
   "display_name": "Python 3",
   "language": "python",
   "name": "python3"
  },
  "language_info": {
   "codemirror_mode": {
    "name": "ipython",
    "version": 3
   },
   "file_extension": ".py",
   "mimetype": "text/x-python",
   "name": "python",
   "nbconvert_exporter": "python",
   "pygments_lexer": "ipython3",
   "version": "3.8.12"
  }
 },
 "nbformat": 4,
 "nbformat_minor": 0
}
