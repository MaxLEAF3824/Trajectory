{
 "cells": [
  {
   "cell_type": "code",
   "execution_count": 1,
   "metadata": {},
   "outputs": [],
   "source": [
    "import numpy as np\n",
    "from grid2vec import *\n",
    "import json\n",
    "import pandas as pd\n",
    "from utils import Timer\n",
    "from joblib import Parallel, delayed\n",
    "from traj2grid import Traj2Grid\n",
    "import traj_dist.distance as tdist\n",
    "from parameters import *\n",
    "import numpy as np\n",
    "\n",
    "timer = Timer()"
   ]
  },
  {
   "cell_type": "markdown",
   "metadata": {},
   "source": [
    "#### 生成 Train Dataset 第一步：读取数据\n"
   ]
  },
  {
   "cell_type": "code",
   "execution_count": 2,
   "metadata": {},
   "outputs": [
    {
     "name": "stdout",
     "output_type": "stream",
     "text": [
      "read data start\n",
      "read data/full/gps_20161101 done, 0.73s after read data start\n"
     ]
    }
   ],
   "source": [
    "file_path = \"data/full/gps_20161101\"\n",
    "dict_path = \"data/str_grid2idx_400_44612.json\"\n",
    "nrows = 1000000\n",
    "\n",
    "# read data\n",
    "timer.tik(\"read data\")\n",
    "df = pd.DataFrame(pd.read_csv(file_path, header=None, nrows=nrows))\n",
    "df.columns = [\"name\", \"id\", \"time\", \"lon\", \"lat\"]  # lon经度 lat纬度\n",
    "timer.tok(\"read {}\".format(file_path))\n"
   ]
  },
  {
   "cell_type": "markdown",
   "metadata": {},
   "source": [
    "#### 生成 Train Dataset 第二步：去除超出范围的数据点\n"
   ]
  },
  {
   "cell_type": "code",
   "execution_count": 3,
   "metadata": {},
   "outputs": [
    {
     "name": "stdout",
     "output_type": "stream",
     "text": [
      "剩948146/1000000个点，筛掉5%\n"
     ]
    }
   ],
   "source": [
    "pad = 0.002\n",
    "\n",
    "\n",
    "l = len(df)\n",
    "df = df[(df[\"lon\"] > 104.04214 + pad) & (df[\"lon\"] < 104.12958 - pad)]\n",
    "df = df[(df[\"lat\"] > 30.65294 + pad) & (df[\"lat\"] < 30.72775 - pad)]\n",
    "print(f\"剩{len(df)}/{l}个点，筛掉{round(100 - 100 * len(df) / l)}%\")\n"
   ]
  },
  {
   "cell_type": "markdown",
   "metadata": {},
   "source": [
    "#### 生成 Train Dataset 第三步：GroupBy转换为1维点列"
   ]
  },
  {
   "cell_type": "code",
   "execution_count": 4,
   "metadata": {},
   "outputs": [
    {
     "name": "stdout",
     "output_type": "stream",
     "text": [
      "load dictdata/str_grid2idx_400_44612.json done, 1.266s after read data start\n",
      "group-apply done, 66.416s after read data start\n"
     ]
    }
   ],
   "source": [
    "str_grid2idx = json.load(open(dict_path))\n",
    "t2g = Traj2Grid(row_num, column_num, min_lon, min_lat, max_lon, max_lat)\n",
    "grid2idx = {eval(g): str_grid2idx[g] for g in list(str_grid2idx)}\n",
    "t2g.set_vocab(grid2idx)\n",
    "timer.tok(f\"load dict{dict_path}\")\n",
    "\n",
    "\n",
    "def group_concat(group: pd.DataFrame):\n",
    "    origin_traj = [((row[\"lon\"]), row[\"lat\"])\n",
    "                   for index, row in group.iterrows()]\n",
    "    traj_1d = t2g.convert1d(origin_traj)\n",
    "    series = pd.Series({\n",
    "        \"origin_trajs\": origin_traj,\n",
    "        \"trajs\": traj_1d,\n",
    "        \"origin_len\": len(origin_traj),\n",
    "        \"len\": len(traj_1d),\n",
    "        \"max_lon\": group[\"lon\"].max(),\n",
    "        \"max_lat\": group[\"lat\"].max(),\n",
    "        \"min_lon\": group[\"lon\"].min(),\n",
    "        \"min_lat\": group[\"lat\"].min(),\n",
    "    })\n",
    "    return series\n",
    "\n",
    "\n",
    "# group-apply\n",
    "res = Parallel(n_jobs=44)(delayed(group_concat)(group)for name, group in df.groupby(\"id\"))\n",
    "df = pd.DataFrame(res)\n",
    "timer.tok(\"group-apply\")\n"
   ]
  },
  {
   "cell_type": "markdown",
   "metadata": {},
   "source": [
    "##### 看看数据情况"
   ]
  },
  {
   "cell_type": "code",
   "execution_count": 5,
   "metadata": {},
   "outputs": [
    {
     "data": {
      "text/plain": [
       "count    5485.000000\n",
       "mean      103.222060\n",
       "std        72.892705\n",
       "min         1.000000\n",
       "25%        47.000000\n",
       "50%        92.000000\n",
       "75%       144.000000\n",
       "max       583.000000\n",
       "Name: len, dtype: float64"
      ]
     },
     "execution_count": 5,
     "metadata": {},
     "output_type": "execute_result"
    },
    {
     "data": {
      "image/png": "[encoded data removed]",
      "text/plain": [
       "<Figure size 432x288 with 1 Axes>"
      ]
     },
     "metadata": {
      "needs_background": "light"
     },
     "output_type": "display_data"
    }
   ],
   "source": [
    "df['len'].hist(bins=100)\n",
    "df['len'].describe()"
   ]
  },
  {
   "cell_type": "markdown",
   "metadata": {},
   "source": [
    "#### 生成 Train Dataset 第四步：过滤过长过短轨迹"
   ]
  },
  {
   "cell_type": "code",
   "execution_count": 6,
   "metadata": {},
   "outputs": [
    {
     "name": "stdout",
     "output_type": "stream",
     "text": [
      "剩5006/5485条轨迹，筛掉9%\n"
     ]
    }
   ],
   "source": [
    "l = len(df)\n",
    "df = df[(df[\"len\"] > 10) & (df[\"len\"] < 256)]\n",
    "print(f\"剩{len(df)}/{l}条轨迹，筛掉{round(100 - 100 * len(df) / l)}%\")\n"
   ]
  },
  {
   "cell_type": "markdown",
   "metadata": {},
   "source": [
    "#### 生成 Train Dataset 第五步：生成轨迹距离矩阵\n"
   ]
  },
  {
   "cell_type": "code",
   "execution_count": 7,
   "metadata": {},
   "outputs": [
    {
     "name": "stdout",
     "output_type": "stream",
     "text": [
      "100-0.04% done, 69.236s after read data start\n",
      "200-0.16% done, 70.947s after read data start\n",
      "300-0.36% done, 73.451s after read data start\n",
      "400-0.64% done, 76.742s after read data start\n",
      "500-1.0% done, 81.024s after read data start\n",
      "600-1.44% done, 87.327s after read data start\n",
      "700-1.96% done, 94.256s after read data start\n",
      "800-2.55% done, 103.416s after read data start\n",
      "900-3.23% done, 111.835s after read data start\n",
      "1000-3.99% done, 122.844s after read data start\n",
      "1100-4.83% done, 133.489s after read data start\n",
      "1200-5.75% done, 145.373s after read data start\n",
      "1300-6.75% done, 156.605s after read data start\n",
      "1400-7.82% done, 168.458s after read data start\n",
      "1500-8.98% done, 180.245s after read data start\n",
      "1600-10.22% done, 193.541s after read data start\n",
      "1700-11.54% done, 208.815s after read data start\n",
      "1800-12.93% done, 225.185s after read data start\n",
      "1900-14.41% done, 243.246s after read data start\n",
      "2000-15.97% done, 265.4s after read data start\n",
      "2100-17.6% done, 287.499s after read data start\n",
      "2200-19.32% done, 314.943s after read data start\n",
      "2300-21.12% done, 348.451s after read data start\n",
      "2400-22.99% done, 372.284s after read data start\n",
      "2500-24.95% done, 398.87s after read data start\n",
      "2600-26.99% done, 425.684s after read data start\n",
      "2700-29.1% done, 451.583s after read data start\n",
      "2800-31.3% done, 485.01s after read data start\n",
      "2900-33.57% done, 519.336s after read data start\n",
      "3000-35.93% done, 554.513s after read data start\n",
      "3100-38.36% done, 588.285s after read data start\n",
      "3200-40.88% done, 628.166s after read data start\n",
      "3300-43.47% done, 656.808s after read data start\n",
      "3400-46.15% done, 694.663s after read data start\n",
      "3500-48.9% done, 731.324s after read data start\n",
      "3600-51.74% done, 771.915s after read data start\n",
      "3700-54.65% done, 814.707s after read data start\n",
      "3800-57.64% done, 866.045s after read data start\n",
      "3900-60.72% done, 907.798s after read data start\n",
      "4000-63.87% done, 950.818s after read data start\n",
      "4100-67.11% done, 996.34s after read data start\n",
      "4200-70.42% done, 1043.54s after read data start\n",
      "4300-73.81% done, 1085.767s after read data start\n",
      "4400-77.29% done, 1135.489s after read data start\n",
      "4500-80.84% done, 1184.22s after read data start\n",
      "4600-84.47% done, 1241.818s after read data start\n",
      "4700-88.18% done, 1301.519s after read data start\n",
      "4800-91.98% done, 1363.216s after read data start\n",
      "4900-95.85% done, 1410.442s after read data start\n",
      "5000-99.8% done, 1461.476s after read data start\n",
      "calculate distance done, 1464.062s after read data start\n"
     ]
    }
   ],
   "source": [
    "origin_trajs = df[\"origin_trajs\"].to_list()\n",
    "arr = [np.array(origin_traj) for origin_traj in origin_trajs]\n",
    "length = len(arr)\n",
    "dis_matrix = np.zeros((length, length))\n",
    "dis_func = getattr(tdist, \"discret_frechet\")\n",
    "\n",
    "def cal_dis(i, j, x, y, n):\n",
    "    dis = dis_func(x, y)\n",
    "    if i % 100 == 0 and i == j + 1:\n",
    "        timer.tok(f'{i}-{round((i * i) / (n * n) * 100, 2)}%')\n",
    "    return i, j, dis\n",
    "\n",
    "\n",
    "res = Parallel(n_jobs=44)(\n",
    "    delayed(cal_dis)(i, j, arr[i], arr[j], length - 1) for i in range(length) for j in range(i))\n",
    "timer.tok(\"calculate distance\")\n",
    "for (i, j, dis) in res:\n",
    "    dis_matrix[i, j] = dis\n",
    "    dis_matrix[j, i] = dis\n"
   ]
  },
  {
   "cell_type": "markdown",
   "metadata": {},
   "source": [
    "#### 生成 Train Dataset 第六步：排序"
   ]
  },
  {
   "cell_type": "code",
   "execution_count": 8,
   "metadata": {},
   "outputs": [],
   "source": [
    "sorted_index = np.argsort(dis_matrix, axis=1)"
   ]
  },
  {
   "cell_type": "markdown",
   "metadata": {},
   "source": [
    "#### 生成 Train Dataset 第七步：保存"
   ]
  },
  {
   "cell_type": "code",
   "execution_count": 10,
   "metadata": {},
   "outputs": [
    {
     "name": "stdout",
     "output_type": "stream",
     "text": [
      "save done, 2337.311s after read data start\n"
     ]
    }
   ],
   "source": [
    "full = True\n",
    "\n",
    "\n",
    "dict_save = {'trajs': df[\"trajs\"].to_list(), \"sorted_index\": sorted_index.tolist(), 'origin_trajs': origin_trajs}\n",
    "if full:\n",
    "    dict_save[\"dis_matrix\"] = dis_matrix.tolist()\n",
    "    json.dump(dict_save, open(file_path + f\"_{sorted_index.shape[0]}_dataset_full.json\", \"w\"))\n",
    "else:\n",
    "    json.dump(dict_save, open(file_path + f\"_{sorted_index.shape[0]}_dataset_small.json\", \"w\"))\n",
    "timer.tok(\"save\")\n"
   ]
  }
 ],
 "metadata": {
  "kernelspec": {
   "display_name": "Python 3",
   "language": "python",
   "name": "python3"
  },
  "language_info": {
   "codemirror_mode": {
    "name": "ipython",
    "version": 3
   },
   "file_extension": ".py",
   "mimetype": "text/x-python",
   "name": "python",
   "nbconvert_exporter": "python",
   "pygments_lexer": "ipython3",
   "version": "3.8.12"
  }
 },
 "nbformat": 4,
 "nbformat_minor": 0
}
