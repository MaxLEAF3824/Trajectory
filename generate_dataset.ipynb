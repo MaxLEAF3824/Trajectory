{
 "cells": [
  {
   "cell_type": "code",
   "execution_count": 1,
   "metadata": {},
   "outputs": [],
   "source": [
    "import numpy as np\n",
    "import json\n",
    "import pandas as pd\n",
    "from utils import Timer\n",
    "from joblib import Parallel, delayed\n",
    "from traj2grid import Traj2Grid\n",
    "import traj_dist.distance as tdist\n",
    "from parameters import *\n",
    "import numpy as np\n"
   ]
  },
  {
   "cell_type": "markdown",
   "metadata": {},
   "source": [
    "#### 读取数据\n"
   ]
  },
  {
   "cell_type": "code",
   "execution_count": 2,
   "metadata": {},
   "outputs": [
    {
     "name": "stdout",
     "output_type": "stream",
     "text": [
      "read data start\n",
      "read data/full/gps_20161101 done, 0.601s after read data start\n"
     ]
    },
    {
     "data": {
      "text/plain": [
       "0.6015732288360596"
      ]
     },
     "execution_count": 2,
     "metadata": {},
     "output_type": "execute_result"
    }
   ],
   "source": [
    "timer = Timer()\n",
    "\n",
    "file_path = \"data/full/gps_20161101\"\n",
    "dict_path = \"data/str_grid2idx_200_19227.json\"\n",
    "nrows = 1000000\n",
    "vocab_size = 200\n",
    "\n",
    "\n",
    "# read data\n",
    "timer.tik(\"read data\")\n",
    "df = pd.DataFrame(pd.read_csv(file_path, names=[\"name\", \"id\", \"time\", \"lon\", \"lat\"],\n",
    "        usecols=[\"id\", \"lon\", \"lat\"], nrows=nrows))\n",
    "# df.columns = [\"name\", \"id\", \"time\", \"lon\", \"lat\"]  # lon经度 lat纬度\n",
    "timer.tok(\"read {}\".format(file_path))\n"
   ]
  },
  {
   "cell_type": "markdown",
   "metadata": {},
   "source": [
    "#### 去除超出范围的数据点\n"
   ]
  },
  {
   "cell_type": "code",
   "execution_count": 3,
   "metadata": {},
   "outputs": [
    {
     "name": "stdout",
     "output_type": "stream",
     "text": [
      "剩948146/1000000个点，筛掉5%\n"
     ]
    }
   ],
   "source": [
    "pad = 0.002\n",
    "\n",
    "\n",
    "l = len(df)\n",
    "df = df[(df[\"lon\"] > 104.04214 + pad) & (df[\"lon\"] < 104.12958 - pad)]\n",
    "df = df[(df[\"lat\"] > 30.65294 + pad) & (df[\"lat\"] < 30.72775 - pad)]\n",
    "print(f\"剩{len(df)}/{l}个点，筛掉{round(100 - 100 * len(df) / l)}%\")\n"
   ]
  },
  {
   "cell_type": "markdown",
   "metadata": {},
   "source": [
    "#### GroupBy转换为1维点列"
   ]
  },
  {
   "cell_type": "code",
   "execution_count": 4,
   "metadata": {},
   "outputs": [
    {
     "name": "stdout",
     "output_type": "stream",
     "text": [
      "load dictdata/str_grid2idx_200_19227.json done, 0.883s after read data start\n",
      "group-apply done, 26.84s after read data start\n"
     ]
    },
    {
     "data": {
      "text/plain": [
       "26.840320587158203"
      ]
     },
     "execution_count": 4,
     "metadata": {},
     "output_type": "execute_result"
    }
   ],
   "source": [
    "str_grid2idx = json.load(open(dict_path))\n",
    "t2g = Traj2Grid(row_num, column_num, min_lon, min_lat, max_lon, max_lat)\n",
    "grid2idx = {eval(g): str_grid2idx[g] for g in list(str_grid2idx)}\n",
    "t2g.set_vocab(grid2idx)\n",
    "timer.tok(f\"load dict{dict_path}\")\n",
    "\n",
    "\n",
    "def group_concat(group: pd.DataFrame):\n",
    "    origin_traj = [((row[\"lon\"]), row[\"lat\"])\n",
    "                   for index, row in group.iterrows()]\n",
    "    traj_1d, coord_traj = t2g.convert1d(origin_traj)\n",
    "    series = pd.Series({\n",
    "        \"origin_trajs\": coord_traj,\n",
    "        \"trajs\": traj_1d,\n",
    "        \"len\": len(traj_1d),\n",
    "        \"max_lon\": group[\"lon\"].max(),\n",
    "        \"max_lat\": group[\"lat\"].max(),\n",
    "        \"min_lon\": group[\"lon\"].min(),\n",
    "        \"min_lat\": group[\"lat\"].min(),\n",
    "    })\n",
    "    return series\n",
    "\n",
    "\n",
    "# group-apply\n",
    "# res = []\n",
    "# for name, group in df.groupby(\"id\"):\n",
    "#     res.append(group_concat(group))\n",
    "res = Parallel(n_jobs=44)(delayed(group_concat)(group)for name, group in df.groupby(\"id\"))\n",
    "df = pd.DataFrame(res)\n",
    "timer.tok(\"group-apply\")\n"
   ]
  },
  {
   "cell_type": "markdown",
   "metadata": {},
   "source": [
    "##### 看看数据情况"
   ]
  },
  {
   "cell_type": "code",
   "execution_count": 5,
   "metadata": {},
   "outputs": [
    {
     "data": {
      "text/plain": [
       "count    5485.000000\n",
       "mean       20.022789\n",
       "std        25.441980\n",
       "min         0.000000\n",
       "25%         0.000000\n",
       "50%         7.000000\n",
       "75%        36.000000\n",
       "max       145.000000\n",
       "Name: len, dtype: float64"
      ]
     },
     "execution_count": 5,
     "metadata": {},
     "output_type": "execute_result"
    },
    {
     "data": {
      "image/png": "[encoded data removed]",
      "text/plain": [
       "<Figure size 432x288 with 1 Axes>"
      ]
     },
     "metadata": {
      "needs_background": "light"
     },
     "output_type": "display_data"
    }
   ],
   "source": [
    "df['len'].hist(bins=100)\n",
    "df['len'].describe()"
   ]
  },
  {
   "cell_type": "markdown",
   "metadata": {},
   "source": [
    "#### 过滤过长过短轨迹"
   ]
  },
  {
   "cell_type": "code",
   "execution_count": 6,
   "metadata": {},
   "outputs": [
    {
     "name": "stdout",
     "output_type": "stream",
     "text": [
      "剩3140/5485条轨迹，筛掉43%\n"
     ]
    }
   ],
   "source": [
    "dff = df[(df[\"len\"] > 0) & (df[\"len\"] < 999)]\n",
    "print(f\"剩{len(dff)}/{len(df)}条轨迹，筛掉{round(100 - 100 * len(dff) / len(df))}%\")\n"
   ]
  },
  {
   "cell_type": "markdown",
   "metadata": {},
   "source": [
    "#### 生成pair-wise轨迹距离矩阵\n"
   ]
  },
  {
   "cell_type": "code",
   "execution_count": 7,
   "metadata": {},
   "outputs": [
    {
     "name": "stdout",
     "output_type": "stream",
     "text": [
      "1-0.0% done, 27.994s after read data start\n",
      "101-0.1% done, 28.504s after read data start\n",
      "201-0.41% done, 29.007s after read data start\n",
      "301-0.92% done, 29.715s after read data start\n",
      "401-1.63% done, 30.765s after read data start\n",
      "501-2.55% done, 31.964s after read data start\n",
      "601-3.67% done, 33.498s after read data start\n",
      "701-4.99% done, 35.359s after read data start\n",
      "801-6.51% done, 37.413s after read data start\n",
      "901-8.24% done, 39.662s after read data start\n",
      "1001-10.17% done, 42.342s after read data start\n",
      "1101-12.3% done, 45.224s after read data start\n",
      "1201-14.64% done, 48.505s after read data start\n",
      "1301-17.18% done, 52.022s after read data start\n",
      "1401-19.92% done, 55.865s after read data start\n",
      "1501-22.87% done, 59.922s after read data start\n",
      "1601-26.01% done, 64.32s after read data start\n",
      "1701-29.36% done, 69.269s after read data start\n",
      "1801-32.92% done, 73.801s after read data start\n",
      "1901-36.68% done, 79.302s after read data start\n",
      "2001-40.64% done, 84.679s after read data start\n",
      "2101-44.8% done, 90.393s after read data start\n",
      "2201-49.17% done, 96.6s after read data start\n",
      "2301-53.73% done, 103.063s after read data start\n",
      "2401-58.51% done, 110.01s after read data start\n",
      "2501-63.48% done, 117.069s after read data start\n",
      "2601-68.66% done, 124.495s after read data start\n",
      "2701-74.04% done, 131.786s after read data start\n",
      "2801-79.62% done, 139.772s after read data start\n",
      "2901-85.41% done, 148.444s after read data start\n",
      "3001-91.4% done, 156.989s after read data start\n",
      "3101-97.59% done, 165.746s after read data start\n",
      "calculate distance done, 169.811s after read data start\n"
     ]
    }
   ],
   "source": [
    "# dff = dff.reset_index()\n",
    "origin_trajs = dff[\"origin_trajs\"].to_list()\n",
    "arr = [np.array(origin_traj) for origin_traj in origin_trajs]\n",
    "length = len(arr)\n",
    "dis_matrix = np.zeros((length, length))\n",
    "dis_func = getattr(tdist, \"discret_frechet\")\n",
    "\n",
    "\n",
    "def cal_dis(i, j, x, y, n):\n",
    "    dis = dis_func(x, y)\n",
    "    if i == j + 1 and i % 100 == 1:\n",
    "        timer.tok(f'{i}-{round((i * i) / (n * n) * 100, 2)}%')\n",
    "    return i, j, dis\n",
    "\n",
    "res = Parallel(n_jobs=44)(\n",
    "    delayed(cal_dis)(i, j, arr[i], arr[j], length - 1) for i in range(length) for j in range(i))\n",
    "timer.tok(\"calculate distance\")\n",
    "for (i, j, dis) in res:\n",
    "    dis_matrix[i,j] = dis\n",
    "    dis_matrix[j,i] = dis\n"
   ]
  },
  {
   "cell_type": "markdown",
   "metadata": {},
   "source": [
    "#### 生成 Train Dataset 第六步：保存"
   ]
  },
  {
   "cell_type": "code",
   "execution_count": 8,
   "metadata": {},
   "outputs": [
    {
     "name": "stdout",
     "output_type": "stream",
     "text": [
      "save done, 183.96s after read data start\n"
     ]
    },
    {
     "data": {
      "text/plain": [
       "183.96047401428223"
      ]
     },
     "execution_count": 8,
     "metadata": {},
     "output_type": "execute_result"
    }
   ],
   "source": [
    "\n",
    "file_name = file_path.split(\"/\")[-1]\n",
    "save_path = \"data/train/\"\n",
    "file_path = save_path + file_name\n",
    "sorted_index = np.argsort(dis_matrix, axis=1)\n",
    "dict_save = {'trajs': dff[\"trajs\"].to_list(), 'origin_trajs': origin_trajs}\n",
    "dict_save[\"dis_matrix\"] = dis_matrix.tolist()\n",
    "json.dump(dict_save, open(file_path + f\"_{sorted_index.shape[0]}_{vocab_size}_dataset_full.json\", \"w\"))\n",
    "timer.tok(\"save\")\n"
   ]
  }
 ],
 "metadata": {
  "kernelspec": {
   "display_name": "Python 3",
   "language": "python",
   "name": "python3"
  },
  "language_info": {
   "codemirror_mode": {
    "name": "ipython",
    "version": 3
   },
   "file_extension": ".py",
   "mimetype": "text/x-python",
   "name": "python",
   "nbconvert_exporter": "python",
   "pygments_lexer": "ipython3",
   "version": "3.8.12"
  }
 },
 "nbformat": 4,
 "nbformat_minor": 0
}
