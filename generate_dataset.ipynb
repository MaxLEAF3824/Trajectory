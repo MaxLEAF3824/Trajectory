{
 "cells": [
  {
   "cell_type": "code",
   "execution_count": 15,
   "metadata": {},
   "outputs": [],
   "source": [
    "import numpy as np\n",
    "import json\n",
    "import pandas as pd\n",
    "from utils import Timer\n",
    "from joblib import Parallel, delayed\n",
    "from traj2grid import Traj2Grid\n",
    "import traj_dist.distance as tdist\n",
    "from parameters import *\n",
    "import numpy as np\n"
   ]
  },
  {
   "cell_type": "markdown",
   "metadata": {},
   "source": [
    "#### 读取数据\n"
   ]
  },
  {
   "cell_type": "code",
   "execution_count": 16,
   "metadata": {},
   "outputs": [
    {
     "name": "stdout",
     "output_type": "stream",
     "text": [
      "read data start\n",
      "read data/full/gps_20161102 done, 0.629s after read data start\n"
     ]
    },
    {
     "data": {
      "text/plain": [
       "0.6286721229553223"
      ]
     },
     "execution_count": 16,
     "metadata": {},
     "output_type": "execute_result"
    }
   ],
   "source": [
    "timer = Timer()\n",
    "\n",
    "file_path = \"data/full/gps_20161102\"\n",
    "dict_path = \"data/str_grid2idx_400_44612.json\"\n",
    "nrows = 1000000\n",
    "vocab_size = 400\n",
    "\n",
    "\n",
    "# read data\n",
    "timer.tik(\"read data\")\n",
    "df = pd.read_csv(file_path, names=[\"name\", \"id\", \"time\", \"lon\", \"lat\"],\n",
    "        usecols=[\"id\", \"lon\", \"lat\"], nrows=nrows)\n",
    "timer.tok(\"read {}\".format(file_path))\n"
   ]
  },
  {
   "cell_type": "markdown",
   "metadata": {},
   "source": [
    "#### 去除超出范围的数据点\n"
   ]
  },
  {
   "cell_type": "code",
   "execution_count": 17,
   "metadata": {},
   "outputs": [
    {
     "name": "stdout",
     "output_type": "stream",
     "text": [
      "剩947007/1000000个点，筛掉5%\n"
     ]
    }
   ],
   "source": [
    "pad = 0.002\n",
    "\n",
    "l = len(df)\n",
    "df = df[(df[\"lon\"] > 104.04214 + pad) & (df[\"lon\"] < 104.12958 - pad)]\n",
    "df = df[(df[\"lat\"] > 30.65294 + pad) & (df[\"lat\"] < 30.72775 - pad)]\n",
    "print(f\"剩{len(df)}/{l}个点，筛掉{round(100 - 100 * len(df) / l)}%\")\n"
   ]
  },
  {
   "cell_type": "markdown",
   "metadata": {},
   "source": [
    "#### GroupBy转换为1维点列"
   ]
  },
  {
   "cell_type": "code",
   "execution_count": 18,
   "metadata": {},
   "outputs": [
    {
     "name": "stdout",
     "output_type": "stream",
     "text": [
      "load dictdata/str_grid2idx_400_44612.json done, 1.142s after read data start\n",
      "group-apply done, 53.034s after read data start\n"
     ]
    },
    {
     "data": {
      "text/plain": [
       "53.033665895462036"
      ]
     },
     "execution_count": 18,
     "metadata": {},
     "output_type": "execute_result"
    }
   ],
   "source": [
    "str_grid2idx = json.load(open(dict_path))\n",
    "t2g = Traj2Grid(row_num, column_num, min_lon, min_lat, max_lon, max_lat)\n",
    "grid2idx = {eval(g): str_grid2idx[g] for g in list(str_grid2idx)}\n",
    "t2g.set_vocab(grid2idx)\n",
    "timer.tok(f\"load dict{dict_path}\")\n",
    "\n",
    "\n",
    "def group_concat(group: pd.DataFrame):\n",
    "    origin_traj = [((row[\"lon\"]), row[\"lat\"])\n",
    "                   for index, row in group.iterrows()]\n",
    "    traj_1d, coord_traj = t2g.convert1d(origin_traj)\n",
    "    series = pd.Series({\n",
    "        \"origin_trajs\": coord_traj,\n",
    "        \"trajs\": traj_1d,\n",
    "        \"len\": len(traj_1d),\n",
    "        \"max_lon\": group[\"lon\"].max(),\n",
    "        \"max_lat\": group[\"lat\"].max(),\n",
    "        \"min_lon\": group[\"lon\"].min(),\n",
    "        \"min_lat\": group[\"lat\"].min(),\n",
    "    })\n",
    "    return series\n",
    "\n",
    "\n",
    "# group-apply\n",
    "# res = []\n",
    "# for name, group in df.groupby(\"id\"):\n",
    "#     res.append(group_concat(group))\n",
    "res = Parallel(n_jobs=44)(delayed(group_concat)(group)for name, group in df.groupby(\"id\"))\n",
    "df = pd.DataFrame(res)\n",
    "timer.tok(\"group-apply\")\n"
   ]
  },
  {
   "cell_type": "markdown",
   "metadata": {},
   "source": [
    "##### 看看数据情况"
   ]
  },
  {
   "cell_type": "code",
   "execution_count": 19,
   "metadata": {},
   "outputs": [
    {
     "data": {
      "text/html": [
       "<div>\n",
       "<style scoped>\n",
       "    .dataframe tbody tr th:only-of-type {\n",
       "        vertical-align: middle;\n",
       "    }\n",
       "\n",
       "    .dataframe tbody tr th {\n",
       "        vertical-align: top;\n",
       "    }\n",
       "\n",
       "    .dataframe thead th {\n",
       "        text-align: right;\n",
       "    }\n",
       "</style>\n",
       "<table border=\"1\" class=\"dataframe\">\n",
       "  <thead>\n",
       "    <tr style=\"text-align: right;\">\n",
       "      <th></th>\n",
       "      <th>origin_trajs</th>\n",
       "      <th>trajs</th>\n",
       "      <th>len</th>\n",
       "      <th>max_lon</th>\n",
       "      <th>max_lat</th>\n",
       "      <th>min_lon</th>\n",
       "      <th>min_lat</th>\n",
       "    </tr>\n",
       "  </thead>\n",
       "  <tbody>\n",
       "    <tr>\n",
       "      <th>0</th>\n",
       "      <td>[(104.04445, 30.69332), (104.04498, 30.69353),...</td>\n",
       "      <td>[1048, 1322, 1572, 1835, 1976, 2254, 2395, 252...</td>\n",
       "      <td>64</td>\n",
       "      <td>104.06135</td>\n",
       "      <td>30.69465</td>\n",
       "      <td>104.04445</td>\n",
       "      <td>30.69332</td>\n",
       "    </tr>\n",
       "    <tr>\n",
       "      <th>1</th>\n",
       "      <td>[(104.05396, 30.66463), (104.05384, 30.66468),...</td>\n",
       "      <td>[6817, 6668, 6817, 6668, 6548, 6432, 6308, 616...</td>\n",
       "      <td>60</td>\n",
       "      <td>104.05748</td>\n",
       "      <td>30.67199</td>\n",
       "      <td>104.05180</td>\n",
       "      <td>30.66461</td>\n",
       "    </tr>\n",
       "    <tr>\n",
       "      <th>2</th>\n",
       "      <td>[(104.10496, 30.655), (104.10526, 30.65519), (...</td>\n",
       "      <td>[34437, 34535, 34644, 41581, 41719, 41845, 420...</td>\n",
       "      <td>31</td>\n",
       "      <td>104.12569</td>\n",
       "      <td>30.65942</td>\n",
       "      <td>104.10496</td>\n",
       "      <td>30.65500</td>\n",
       "    </tr>\n",
       "    <tr>\n",
       "      <th>3</th>\n",
       "      <td>[(104.04668, 30.65522), (104.0465, 30.65552), ...</td>\n",
       "      <td>[2315, 2172, 2173, 2043, 1913, 1914, 1770, 163...</td>\n",
       "      <td>15</td>\n",
       "      <td>104.04668</td>\n",
       "      <td>30.65810</td>\n",
       "      <td>104.04424</td>\n",
       "      <td>30.65522</td>\n",
       "    </tr>\n",
       "    <tr>\n",
       "      <th>4</th>\n",
       "      <td>[(104.12722, 30.71598), (104.12655, 30.71609),...</td>\n",
       "      <td>[44007, 43799, 43590, 43402, 43080, 42824, 426...</td>\n",
       "      <td>73</td>\n",
       "      <td>104.12722</td>\n",
       "      <td>30.72573</td>\n",
       "      <td>104.05997</td>\n",
       "      <td>30.71598</td>\n",
       "    </tr>\n",
       "  </tbody>\n",
       "</table>\n",
       "</div>"
      ],
      "text/plain": [
       "                                        origin_trajs  \\\n",
       "0  [(104.04445, 30.69332), (104.04498, 30.69353),...   \n",
       "1  [(104.05396, 30.66463), (104.05384, 30.66468),...   \n",
       "2  [(104.10496, 30.655), (104.10526, 30.65519), (...   \n",
       "3  [(104.04668, 30.65522), (104.0465, 30.65552), ...   \n",
       "4  [(104.12722, 30.71598), (104.12655, 30.71609),...   \n",
       "\n",
       "                                               trajs  len    max_lon  \\\n",
       "0  [1048, 1322, 1572, 1835, 1976, 2254, 2395, 252...   64  104.06135   \n",
       "1  [6817, 6668, 6817, 6668, 6548, 6432, 6308, 616...   60  104.05748   \n",
       "2  [34437, 34535, 34644, 41581, 41719, 41845, 420...   31  104.12569   \n",
       "3  [2315, 2172, 2173, 2043, 1913, 1914, 1770, 163...   15  104.04668   \n",
       "4  [44007, 43799, 43590, 43402, 43080, 42824, 426...   73  104.12722   \n",
       "\n",
       "    max_lat    min_lon   min_lat  \n",
       "0  30.69465  104.04445  30.69332  \n",
       "1  30.67199  104.05180  30.66461  \n",
       "2  30.65942  104.10496  30.65500  \n",
       "3  30.65810  104.04424  30.65522  \n",
       "4  30.72573  104.05997  30.71598  "
      ]
     },
     "execution_count": 19,
     "metadata": {},
     "output_type": "execute_result"
    }
   ],
   "source": [
    "df.head()"
   ]
  },
  {
   "cell_type": "markdown",
   "metadata": {},
   "source": [
    "#### 过滤过长过短轨迹"
   ]
  },
  {
   "cell_type": "code",
   "execution_count": 20,
   "metadata": {},
   "outputs": [
    {
     "name": "stdout",
     "output_type": "stream",
     "text": [
      "剩5507/5507条轨迹，筛掉0%\n"
     ]
    }
   ],
   "source": [
    "dff = df[(df[\"len\"] > 0) & (df[\"len\"] < 999)]\n",
    "print(f\"剩{len(dff)}/{len(df)}条轨迹，筛掉{round(100 - 100 * len(dff) / len(df))}%\")\n"
   ]
  },
  {
   "cell_type": "markdown",
   "metadata": {},
   "source": [
    "#### 生成pair-wise轨迹距离矩阵\n"
   ]
  },
  {
   "cell_type": "code",
   "execution_count": 21,
   "metadata": {},
   "outputs": [
    {
     "name": "stdout",
     "output_type": "stream",
     "text": [
      "1-0.0% done, 53.636s after read data start\n",
      "101-0.03% done, 54.108s after read data start\n",
      "201-0.13% done, 54.865s after read data start\n",
      "301-0.3% done, 55.889s after read data start\n",
      "401-0.53% done, 57.179s after read data start\n",
      "501-0.83% done, 58.637s after read data start\n",
      "601-1.19% done, 60.862s after read data start\n",
      "701-1.62% done, 63.743s after read data start\n",
      "801-2.12% done, 66.083s after read data start\n",
      "901-2.68% done, 69.181s after read data start\n",
      "1001-3.31% done, 72.728s after read data start\n",
      "1101-4.0% done, 76.551s after read data start\n",
      "1201-4.76% done, 80.975s after read data start\n",
      "1301-5.58% done, 85.531s after read data start\n",
      "1401-6.47% done, 90.04s after read data start\n",
      "1501-7.43% done, 95.222s after read data start\n",
      "1601-8.45% done, 100.961s after read data start\n",
      "1701-9.54% done, 106.687s after read data start\n",
      "1801-10.7% done, 112.859s after read data start\n",
      "1901-11.92% done, 119.464s after read data start\n",
      "2001-13.21% done, 126.313s after read data start\n",
      "2101-14.56% done, 133.386s after read data start\n",
      "2201-15.98% done, 141.131s after read data start\n",
      "2301-17.46% done, 149.523s after read data start\n",
      "2401-19.02% done, 157.431s after read data start\n",
      "2501-20.63% done, 166.365s after read data start\n",
      "2601-22.32% done, 175.164s after read data start\n",
      "2701-24.06% done, 185.225s after read data start\n",
      "2801-25.88% done, 195.354s after read data start\n",
      "2901-27.76% done, 205.786s after read data start\n",
      "3001-29.71% done, 217.693s after read data start\n",
      "3101-31.72% done, 229.311s after read data start\n",
      "3201-33.8% done, 240.428s after read data start\n",
      "3301-35.94% done, 253.716s after read data start\n",
      "3401-38.15% done, 266.014s after read data start\n",
      "3501-40.43% done, 278.144s after read data start\n",
      "3601-42.77% done, 293.179s after read data start\n",
      "3701-45.18% done, 305.905s after read data start\n",
      "3801-47.66% done, 320.259s after read data start\n",
      "3901-50.2% done, 335.432s after read data start\n",
      "4001-52.8% done, 350.181s after read data start\n",
      "4101-55.48% done, 366.113s after read data start\n",
      "4201-58.21% done, 382.362s after read data start\n",
      "4301-61.02% done, 399.697s after read data start\n",
      "4401-63.89% done, 415.996s after read data start\n",
      "4501-66.83% done, 433.407s after read data start\n",
      "4601-69.83% done, 451.353s after read data start\n",
      "4701-72.9% done, 469.547s after read data start\n",
      "4801-76.03% done, 488.195s after read data start\n",
      "4901-79.23% done, 506.26s after read data start\n",
      "5001-82.5% done, 526.529s after read data start\n",
      "5101-85.83% done, 547.285s after read data start\n",
      "5201-89.23% done, 569.828s after read data start\n",
      "5301-92.69% done, 593.143s after read data start\n",
      "5401-96.22% done, 615.619s after read data start\n",
      "5501-99.82% done, 640.632s after read data start\n",
      "calculate distance done, 641.677s after read data start\n"
     ]
    }
   ],
   "source": [
    "# dff = dff.reset_index()\n",
    "origin_trajs = dff[\"origin_trajs\"].to_list()\n",
    "arr = [np.array(origin_traj) for origin_traj in origin_trajs]\n",
    "length = len(arr)\n",
    "dis_matrix = np.zeros((length, length))\n",
    "dis_func = getattr(tdist, \"discret_frechet\")\n",
    "\n",
    "\n",
    "def cal_dis(i, j, x, y, n):\n",
    "    dis = dis_func(x, y)\n",
    "    if i == j + 1 and i % 100 == 1:\n",
    "        timer.tok(f'{i}-{round((i * i) / (n * n) * 100, 2)}%')\n",
    "    return i, j, dis\n",
    "\n",
    "res = Parallel(n_jobs=44)(\n",
    "    delayed(cal_dis)(i, j, arr[i], arr[j], length - 1) for i in range(length) for j in range(i))\n",
    "timer.tok(\"calculate distance\")\n",
    "for (i, j, dis) in res:\n",
    "    dis_matrix[i,j] = dis\n",
    "    dis_matrix[j,i] = dis\n"
   ]
  },
  {
   "cell_type": "code",
   "execution_count": 22,
   "metadata": {},
   "outputs": [
    {
     "data": {
      "text/plain": [
       "array([[0.        , 0.03022509, 0.07414426, ..., 0.07057931, 0.01724014,\n",
       "        0.02899181],\n",
       "       [0.03022509, 0.        , 0.06970381, ..., 0.06220493, 0.04363249,\n",
       "        0.02230574],\n",
       "       [0.07414426, 0.06970381, 0.        , ..., 0.0285858 , 0.09136432,\n",
       "        0.08519888],\n",
       "       ...,\n",
       "       [0.07057931, 0.06220493, 0.0285858 , ..., 0.        , 0.0753164 ,\n",
       "        0.05807618],\n",
       "       [0.01724014, 0.04363249, 0.09136432, ..., 0.0753164 , 0.        ,\n",
       "        0.03990596],\n",
       "       [0.02899181, 0.02230574, 0.08519888, ..., 0.05807618, 0.03990596,\n",
       "        0.        ]])"
      ]
     },
     "execution_count": 22,
     "metadata": {},
     "output_type": "execute_result"
    }
   ],
   "source": [
    "dis_matrix"
   ]
  },
  {
   "cell_type": "markdown",
   "metadata": {},
   "source": [
    "#### 生成 Train Dataset 第六步：保存"
   ]
  },
  {
   "cell_type": "code",
   "execution_count": 23,
   "metadata": {},
   "outputs": [
    {
     "name": "stdout",
     "output_type": "stream",
     "text": [
      "save done, 686.134s after read data start\n"
     ]
    },
    {
     "data": {
      "text/plain": [
       "686.134658575058"
      ]
     },
     "execution_count": 23,
     "metadata": {},
     "output_type": "execute_result"
    }
   ],
   "source": [
    "\n",
    "file_name = file_path.split(\"/\")[-1]\n",
    "save_path = \"data/test/\"\n",
    "file_path = save_path + file_name\n",
    "sorted_index = np.argsort(dis_matrix, axis=1)\n",
    "dict_save = {'trajs': dff[\"trajs\"].to_list(), 'origin_trajs': origin_trajs}\n",
    "dict_save[\"dis_matrix\"] = dis_matrix.tolist()\n",
    "json.dump(dict_save, open(file_path + f\"_{sorted_index.shape[0]}_{vocab_size}_dataset_full.json\", \"w\"))\n",
    "timer.tok(\"save\")\n"
   ]
  }
 ],
 "metadata": {
  "kernelspec": {
   "display_name": "Python 3",
   "language": "python",
   "name": "python3"
  },
  "language_info": {
   "codemirror_mode": {
    "name": "ipython",
    "version": 3
   },
   "file_extension": ".py",
   "mimetype": "text/x-python",
   "name": "python",
   "nbconvert_exporter": "python",
   "pygments_lexer": "ipython3",
   "version": "3.8.12"
  }
 },
 "nbformat": 4,
 "nbformat_minor": 0
}
