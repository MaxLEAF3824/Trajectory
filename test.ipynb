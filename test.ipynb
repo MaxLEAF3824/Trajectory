{
 "cells": [
  {
   "cell_type": "markdown",
   "metadata": {},
   "source": [
    "traj2grid测试"
   ]
  },
  {
   "cell_type": "code",
   "execution_count": 2,
   "metadata": {},
   "outputs": [
    {
     "ename": "AttributeError",
     "evalue": "'dict' object has no attribute 'to'",
     "output_type": "error",
     "traceback": [
      "\u001b[0;31m---------------------------------------------------------------------------\u001b[0m",
      "\u001b[0;31mAttributeError\u001b[0m                            Traceback (most recent call last)",
      "\u001b[1;32m/home/yqguo/coding/Trajectory/test.ipynb Cell 2'\u001b[0m in \u001b[0;36m<module>\u001b[0;34m\u001b[0m\n\u001b[1;32m      <a href='vscode-notebook-cell://ssh-remote%2B251/home/yqguo/coding/Trajectory/test.ipynb#ch0000001vscode-remote?line=1'>2</a>\u001b[0m file_name \u001b[39m=\u001b[39m \u001b[39m\"\u001b[39m\u001b[39mmodel/cp_139_loss0.273_rank_12.47.pth\u001b[39m\u001b[39m\"\u001b[39m\n\u001b[1;32m      <a href='vscode-notebook-cell://ssh-remote%2B251/home/yqguo/coding/Trajectory/test.ipynb#ch0000001vscode-remote?line=2'>3</a>\u001b[0m model \u001b[39m=\u001b[39m torch\u001b[39m.\u001b[39mload(file_name)\n\u001b[0;32m----> <a href='vscode-notebook-cell://ssh-remote%2B251/home/yqguo/coding/Trajectory/test.ipynb#ch0000001vscode-remote?line=3'>4</a>\u001b[0m model\u001b[39m.\u001b[39;49mto(\u001b[39m\"\u001b[39m\u001b[39mcpu\u001b[39m\u001b[39m\"\u001b[39m)\n",
      "\u001b[0;31mAttributeError\u001b[0m: 'dict' object has no attribute 'to'"
     ]
    }
   ],
   "source": [
    "import torch\n",
    "file_name = \"model/cp_139_loss0.273_rank_12.47.pth\"\n",
    "model = torch.load(file_name)\n"
   ]
  },
  {
   "cell_type": "code",
   "execution_count": 31,
   "metadata": {},
   "outputs": [],
   "source": [
    "from traj2grid import Traj2Grid\n",
    "from parameters import min_lon, max_lon, min_lat, max_lat\n",
    "import json\n",
    "str_grid2idx = json.load(open(\"data/str_grid2idx_400_44612.json\"))\n",
    "grid2idx = {eval(g): str_grid2idx[g] for g in list(str_grid2idx)}\n",
    "t2g = Traj2Grid(400, 400, min_lon, min_lat, max_lon, max_lat, grid2idx)\n",
    "model.t2g = t2g\n",
    "model.mean_x = 104.08007913272864\n",
    "model.mean_y = 30.68234119864428\n",
    "model.std_x = 0.021409964446530056\n",
    "model.std_y = 0.019668597464374094"
   ]
  },
  {
   "cell_type": "code",
   "execution_count": 32,
   "metadata": {},
   "outputs": [],
   "source": [
    "torch.save(model, f\"model/archived_model/{model_name}\")"
   ]
  }
 ],
 "metadata": {
  "kernelspec": {
   "display_name": "Python 3",
   "language": "python",
   "name": "python3"
  },
  "language_info": {
   "codemirror_mode": {
    "name": "ipython",
    "version": 3
   },
   "file_extension": ".py",
   "mimetype": "text/x-python",
   "name": "python",
   "nbconvert_exporter": "python",
   "pygments_lexer": "ipython3",
   "version": "3.8.12"
  }
 },
 "nbformat": 4,
 "nbformat_minor": 0
}
