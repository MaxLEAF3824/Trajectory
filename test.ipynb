{
 "cells": [
  {
   "cell_type": "code",
   "execution_count": 1,
   "metadata": {},
   "outputs": [],
   "source": [
    "import numpy as np\n",
    "import torch\n",
    "from grid2vec import *\n",
    "import json"
   ]
  },
  {
   "cell_type": "code",
   "execution_count": 3,
   "metadata": {},
   "outputs": [
    {
     "data": {
      "text/plain": [
       "array([], dtype=float64)"
      ]
     },
     "execution_count": 3,
     "metadata": {},
     "output_type": "execute_result"
    }
   ],
   "source": [
    "np.array([])"
   ]
  },
  {
   "cell_type": "code",
   "execution_count": 9,
   "metadata": {
    "collapsed": false,
    "pycharm": {
     "name": "#%%\n"
    }
   },
   "outputs": [
    {
     "name": "stdout",
     "output_type": "stream",
     "text": [
      "0.7862\n",
      "0.7921\n",
      "0.7029\n"
     ]
    }
   ],
   "source": [
    "with open('data/str_grid2idx_800.json') as f:\n",
    "    str_grid2idx = json.load(f)\n",
    "    f.close()\n",
    "grid2idx = {eval(c): str_grid2idx[c] for c in list(str_grid2idx)}\n",
    "\n",
    "dataset = GridEmbeddingDataset(grid2idx, window_size=20, neg_rate=100)\n",
    "model = Grid2Vec(len(dataset), 256)\n",
    "cp = torch.load('model/checkpoint_256_299_0_0.694.pth')\n",
    "model.load_state_dict(cp['model'])\n",
    "weight2 = np.load(\"model/grid_embedding_256_0.8.npy\")\n",
    "weight3 = np.load(\"model/grid_embedding_384_0.73.npy\")\n",
    "print(evaluate_grid2vec(model.input_embedding(), dataset, test_num=500))\n",
    "print(evaluate_grid2vec(weight2, dataset, test_num=500))\n",
    "print(evaluate_grid2vec(weight3, dataset, test_num=500))"
   ]
  },
  {
   "cell_type": "code",
   "execution_count": 6,
   "metadata": {},
   "outputs": [],
   "source": [
    "import json\n",
    "import numpy as np\n",
    "\n",
    "file_train = \"data/100k_gps_20161101_reformat.json\"\n",
    "file_train = \"data/full/gps_20161101_reformat.json\"\n",
    "d = json.load(open(file_train))\n"
   ]
  },
  {
   "cell_type": "code",
   "execution_count": 11,
   "metadata": {},
   "outputs": [
    {
     "name": "stdout",
     "output_type": "stream",
     "text": [
      "107869\n",
      "131503\n",
      "132946\n",
      "132951\n"
     ]
    }
   ],
   "source": [
    "traj_512 = [x for x in list(d['traj'].values()) if len(x) < 512]\n",
    "traj_256 = [x for x in list(d['traj'].values()) if len(x) < 256]\n",
    "traj_1024 = [x for x in list(d['traj'].values()) if len(x) < 1024]\n",
    "print(len(traj_256))\n",
    "print(len(traj_512))\n",
    "print(len(traj_1024))\n",
    "print(len(d['traj']))"
   ]
  },
  {
   "cell_type": "code",
   "execution_count": 49,
   "metadata": {},
   "outputs": [
    {
     "data": {
      "text/plain": [
       "array([1, 4, 1, 3, 5, 6, 3, 5, 6, 3, 4, 2, 5, 1, 3, 4, 1, 2, 5, 6])"
      ]
     },
     "execution_count": 49,
     "metadata": {},
     "output_type": "execute_result"
    }
   ],
   "source": [
    "import random\n",
    "\n",
    "max_len = 20\n",
    "traj = [1, 2, 3, 4, 5, 6] * 7\n",
    "\n",
    "idx = [0] + sorted(random.sample(range(1,len(traj)-1), max_len - 2)) + [len(traj)-1]\n",
    "array = np.array(traj)[idx]\n",
    "array"
   ]
  },
  {
   "cell_type": "code",
   "execution_count": 7,
   "metadata": {},
   "outputs": [
    {
     "name": "stdout",
     "output_type": "stream",
     "text": [
      "tensor([[1.2488, 1.5787, 1.1060, 1.1264, 1.7566],\n",
      "        [1.4038, 1.4460, 1.1559, 1.9803, 1.6719],\n",
      "        [1.6371, 1.3880, 1.3009, 1.6942, 1.7834],\n",
      "        [1.2229, 1.9669, 1.4990, 1.0187, 1.5576],\n",
      "        [1.3838, 1.6400, 1.8443, 1.7607, 1.4661]])\n",
      "tensor([[0.1723, 0.2396, 0.1494, 0.1524, 0.2863],\n",
      "        [0.1692, 0.1765, 0.1320, 0.3011, 0.2212],\n",
      "        [0.2123, 0.1655, 0.1517, 0.2248, 0.2457],\n",
      "        [0.1507, 0.3172, 0.1986, 0.1229, 0.2106],\n",
      "        [0.1558, 0.2012, 0.2468, 0.2271, 0.1691]])\n"
     ]
    },
    {
     "data": {
      "text/plain": [
       "tensor([[0.2152, 0.3783, 0.1652, 0.1717, 0.5029],\n",
       "        [0.2375, 0.2552, 0.1526, 0.5963, 0.3698],\n",
       "        [0.3476, 0.2297, 0.1973, 0.3808, 0.4383],\n",
       "        [0.1843, 0.6238, 0.2978, 0.1252, 0.3280],\n",
       "        [0.2155, 0.3300, 0.4553, 0.3998, 0.2479]])"
      ]
     },
     "execution_count": 7,
     "metadata": {},
     "output_type": "execute_result"
    }
   ],
   "source": [
    "import torch\n",
    "\n",
    "m = torch.ones((5,5))\n",
    "e = torch.rand((5,5))\n",
    "m.add_(e)\n",
    "print(m)\n",
    "sm = torch.softmax(m,dim=1)\n",
    "print(sm)\n",
    "torch.sum()"
   ]
  },
  {
   "cell_type": "code",
   "execution_count": 4,
   "metadata": {},
   "outputs": [],
   "source": [
    "import json\n",
    "import random\n",
    "import numpy as np\n",
    "import traj_dist.distance as tdist\n",
    "import pandas as pd\n",
    "\n",
    "\n",
    "random.seed(19991014)\n",
    "file_train = \"data/100k_gps_20161101_reformat.json\"\n",
    "json_obj = json.load(open(file_train))\n",
    "origin_trajs = list(json_obj['origin_traj'].values())\n",
    "N = 5\n",
    "eps = 21.11\n",
    "metric_types=['lcss','edr','erp','frechet','discret_frechet','hausdorff','dtw']\n",
    "trajs_N = origin_trajs[-3:]\n"
   ]
  },
  {
   "cell_type": "code",
   "execution_count": 3,
   "metadata": {},
   "outputs": [
    {
     "ename": "NameError",
     "evalue": "name 'pd' is not defined",
     "output_type": "error",
     "traceback": [
      "\u001b[0;31m---------------------------------------------------------------------------\u001b[0m",
      "\u001b[0;31mNameError\u001b[0m                                 Traceback (most recent call last)",
      "\u001b[1;32m/home/yqguo/coding/Trajectory/test.ipynb Cell 8'\u001b[0m in \u001b[0;36m<module>\u001b[0;34m\u001b[0m\n\u001b[0;32m----> <a href='vscode-notebook-cell://ssh-remote%2B251/home/yqguo/coding/Trajectory/test.ipynb#ch0000007vscode-remote?line=0'>1</a>\u001b[0m df \u001b[39m=\u001b[39m pd\u001b[39m.\u001b[39mDataFrame(columns\u001b[39m=\u001b[39m[\u001b[39m'\u001b[39m\u001b[39mself\u001b[39m\u001b[39m'\u001b[39m,\u001b[39m'\u001b[39m\u001b[39mcontort\u001b[39m\u001b[39m'\u001b[39m,\u001b[39m'\u001b[39m\u001b[39mdown_sample\u001b[39m\u001b[39m'\u001b[39m,\u001b[39m'\u001b[39m\u001b[39mcontort_dsp\u001b[39m\u001b[39m'\u001b[39m,\u001b[39m'\u001b[39m\u001b[39mother1\u001b[39m\u001b[39m'\u001b[39m,\u001b[39m'\u001b[39m\u001b[39mother2\u001b[39m\u001b[39m'\u001b[39m,\u001b[39m'\u001b[39m\u001b[39mother3\u001b[39m\u001b[39m'\u001b[39m])\n\u001b[1;32m      <a href='vscode-notebook-cell://ssh-remote%2B251/home/yqguo/coding/Trajectory/test.ipynb#ch0000007vscode-remote?line=1'>2</a>\u001b[0m \u001b[39mfor\u001b[39;00m i \u001b[39min\u001b[39;00m \u001b[39mrange\u001b[39m(N):\n\u001b[1;32m      <a href='vscode-notebook-cell://ssh-remote%2B251/home/yqguo/coding/Trajectory/test.ipynb#ch0000007vscode-remote?line=2'>3</a>\u001b[0m     traj \u001b[39m=\u001b[39m np\u001b[39m.\u001b[39marray(origin_trajs[i])\n",
      "\u001b[0;31mNameError\u001b[0m: name 'pd' is not defined"
     ]
    }
   ],
   "source": [
    "df = pd.DataFrame(columns=['self','contort','down_sample','contort_dsp','other1','other2','other3'])\n",
    "for i in range(N):\n",
    "    traj = np.array(origin_trajs[i])\n",
    "    contort = traj + (np.random.rand(traj.shape[0], 2) * 2 - 1) * 0.0001\n",
    "    idx = [0] + sorted(random.sample(range(1, traj.shape[0] - 1), traj.shape[0] // 2)) + [traj.shape[0] - 1]\n",
    "    down_sample = traj[idx]\n",
    "    contort_dsp = contort[idx]\n",
    "\n",
    "    new = pd.Series({'self':tdist.edr(traj, traj, type_d='spherical', eps=eps),\n",
    "                    'contort':tdist.edr(traj, contort, type_d='spherical', eps=eps),\n",
    "                    'down_sample':tdist.edr(traj, down_sample, type_d='spherical', eps=eps),\n",
    "                    'contort_dsp':tdist.edr(traj, contort_dsp, type_d='spherical', eps=eps),\n",
    "                    'other1':tdist.edr(traj, np.array(trajs_N[0]), type_d='spherical', eps=eps),\n",
    "                    'other2':tdist.edr(traj, np.array(trajs_N[1]), type_d='spherical', eps=eps),\n",
    "                    'other3':tdist.edr(traj, np.array(trajs_N[2]), type_d='spherical', eps=eps)})\n",
    "    df = df.append(new, ignore_index=True)\n",
    "df"
   ]
  },
  {
   "cell_type": "code",
   "execution_count": null,
   "metadata": {},
   "outputs": [],
   "source": [
    "import torch \n",
    "\n",
    "t = torch.tensor(0.5)\n",
    "\n",
    "class model(torch.nn.Module):\n",
    "    def __init__(self):\n",
    "        super(model, self).__init__()\n",
    "        self.t = torch.nn.Linear(1,1)\n",
    "        # self.t = torch.tensor(0.5)\n",
    "    def forward(self, x):\n",
    "        return x * t\n",
    "\n",
    "m = model()\n",
    "for p in m.parameters():\n",
    "    print(p)\n"
   ]
  },
  {
   "cell_type": "code",
   "execution_count": null,
   "metadata": {},
   "outputs": [],
   "source": [
    "import torch\n",
    "\n",
    "t = torch.rand(2,4)\n",
    "print(t)\n",
    "t = t.unsqueeze(1).repeat(1,3,1)\n",
    "print(t.shape)\n",
    "print(t)\n",
    "weight = torch.softmax(torch.ones(3) / torch.arange(1, 3 + 1).float(), dim=0)\n",
    "output = torch.einsum('bte, t -> be', t, weight)\n",
    "output"
   ]
  },
  {
   "cell_type": "code",
   "execution_count": 1,
   "metadata": {},
   "outputs": [
    {
     "data": {
      "text/plain": [
       "0.00029125044420566987"
      ]
     },
     "execution_count": 1,
     "metadata": {},
     "output_type": "execute_result"
    }
   ],
   "source": [
    "import numpy as np\n",
    "import math \n",
    "\n",
    "math.sqrt((0.0002203750**2 + 0.0001904250**2))"
   ]
  },
  {
   "cell_type": "code",
   "execution_count": 15,
   "metadata": {},
   "outputs": [
    {
     "name": "stdout",
     "output_type": "stream",
     "text": [
      "diff1:0.0004209801355290295\n",
      "diff2:1.3911618431187805e-05\n"
     ]
    }
   ],
   "source": [
    "import json\n",
    "import numpy as np\n",
    "import traj_dist.distance as tdist\n",
    "\n",
    "\n",
    "sp21 = json.load(open(\"data/100k_gps_20161101_reformat_distance_sp21.json\"))\n",
    "sp30 = json.load(open(\"data/100k_gps_20161101_reformat_dis_matrix_sp30.json\"))\n",
    "eu00029 = json.load(open(\"data/100k_gps_20161101_reformat_dis_matrix_eps0.00029.json\"))\n",
    "\n",
    "diff1 = np.mean(np.array(sp21['dis_matrix'])-np.array(eu00029['dis_matrix']))\n",
    "diff2 = np.mean(np.array(sp30['dis_matrix'])-np.array(eu00029['dis_matrix']))\n"
   ]
  },
  {
   "cell_type": "code",
   "execution_count": 1,
   "metadata": {},
   "outputs": [
    {
     "name": "stdout",
     "output_type": "stream",
     "text": [
      "prepare data start\n",
      "prepare data done, 15.369s after prepare data start\n"
     ]
    }
   ],
   "source": [
    "from t3s import *\n",
    "\n",
    "\n",
    "timer.tik(\"prepare data\")\n",
    "dataset_dir = \"/home/yqguo/coding/Trajectory/data/\"\n",
    "str_grid2idx = json.load(open(dataset_dir + \"str_grid2idx_400.json\"))\n",
    "grid2idx = {eval(c): str_grid2idx[c] for c in list(str_grid2idx)}\n",
    "dataset = MetricLearningDataset(dataset_dir + \"1m_gps_20161101_info.json\", grid2idx)\n",
    "dataloader = torch.utils.data.DataLoader(dataset, batch_size=64, shuffle=True)\n",
    "test_dataset = MetricLearningDataset(dataset_dir + \"100k_gps_20161102_info.json\", grid2idx)\n",
    "model = T3S(vocab_size=len(grid2idx) + 1).cuda()\n",
    "optimizer = torch.optim.Adam(model.parameters(), lr=0.01)\n",
    "timer.tok(\"prepare data\")\n",
    "# train_t3s(model, dataloader, optimizer, epochs=100)"
   ]
  },
  {
   "cell_type": "code",
   "execution_count": 24,
   "metadata": {},
   "outputs": [
    {
     "data": {
      "text/plain": [
       "torch.Size([4, 4, 3])"
      ]
     },
     "execution_count": 24,
     "metadata": {},
     "output_type": "execute_result"
    }
   ],
   "source": [
    "import torch\n",
    "\n",
    "a = torch.tensor([[1., 1., 1.],\n",
    "            [2., 2., 2.],\n",
    "            [3., 3., 3.],\n",
    "            [4., 4., 4.]])\n",
    "# a[:, None]\n",
    "(a.unsqueeze(1)-a).shape\n",
    "# torch.norm(a.unsqueeze(1)-a, dim=2, p=2)"
   ]
  }
 ],
 "metadata": {
  "kernelspec": {
   "display_name": "Python 3",
   "language": "python",
   "name": "python3"
  },
  "language_info": {
   "codemirror_mode": {
    "name": "ipython",
    "version": 3
   },
   "file_extension": ".py",
   "mimetype": "text/x-python",
   "name": "python",
   "nbconvert_exporter": "python",
   "pygments_lexer": "ipython3",
   "version": "3.8.12"
  }
 },
 "nbformat": 4,
 "nbformat_minor": 0
}
