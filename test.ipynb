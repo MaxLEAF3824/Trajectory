{
 "cells": [
  {
   "cell_type": "code",
   "execution_count": 1,
   "metadata": {},
   "outputs": [],
   "source": [
    "import numpy as np\n",
    "import torch\n",
    "from grid2vec import *\n",
    "import json\n",
    "import pandas as pd\n",
    "from utils import Timer, copy_file\n",
    "from joblib import Parallel, delayed\n",
    "from traj2grid import Traj2Grid\n",
    "import traj_dist.distance as tdist\n",
    "from logging import raiseExceptions\n",
    "from parameters import *\n",
    "import numpy as np\n",
    "import time\n",
    "\n",
    "timer = Timer()"
   ]
  },
  {
   "cell_type": "code",
   "execution_count": 2,
   "metadata": {},
   "outputs": [
    {
     "name": "stderr",
     "output_type": "stream",
     "text": [
      "E0322 10:25:00.537783006   37412 fork_posix.cc:70]           Fork support is only compatible with the epoll1 and poll polling strategies\n",
      "E0322 10:25:00.613058343   37412 fork_posix.cc:70]           Fork support is only compatible with the epoll1 and poll polling strategies\n",
      "E0322 10:25:00.669207796   37412 fork_posix.cc:70]           Fork support is only compatible with the epoll1 and poll polling strategies\n"
     ]
    },
    {
     "data": {
      "text/plain": [
       "{'node_ip_address': '202.117.43.251',\n",
       " 'raylet_ip_address': '202.117.43.251',\n",
       " 'redis_address': '202.117.43.251:50103',\n",
       " 'object_store_address': '/tmp/ray/session_2022-03-22_10-24-59_299549_37412/sockets/plasma_store',\n",
       " 'raylet_socket_name': '/tmp/ray/session_2022-03-22_10-24-59_299549_37412/sockets/raylet',\n",
       " 'webui_url': None,\n",
       " 'session_dir': '/tmp/ray/session_2022-03-22_10-24-59_299549_37412',\n",
       " 'metrics_export_port': 59722,\n",
       " 'gcs_address': '202.117.43.251:37809',\n",
       " 'node_id': '155b073b9750b32dbc1f7621a168bd1c4a52464880bfcb9bdc9a43f5'}"
      ]
     },
     "execution_count": 2,
     "metadata": {},
     "output_type": "execute_result"
    }
   ],
   "source": [
    "import modin.pandas as pd\n",
    "import ray\n",
    "ray.init()\n"
   ]
  },
  {
   "cell_type": "code",
   "execution_count": null,
   "metadata": {},
   "outputs": [],
   "source": [
    "row_num = 400\n",
    "column_num = 400\n",
    "\n",
    "timer = utils.Timer()\n",
    "t2g = Traj2Grid(row_num, column_num, min_lon, min_lat, max_lon, max_lat)\n",
    "print(t2g.gird_shape)\n",
    "timer.tik()\n",
    "value_counts = None\n",
    "for i in range(1, 31):\n",
    "    df = pd.read_csv(\n",
    "        f\"{data_dir}/full/gps_201611{str(i).zfill(2)}\",\n",
    "        names=[\"name\", \"order_id\", \"time\", \"lon\", \"lat\"],\n",
    "        usecols=[\"lon\", \"lat\"],\n",
    "    )  # lon经度 lat纬度\n",
    "    timer.tok(f\"read{str(i).zfill(2)}\")\n",
    "    df = df.apply(t2g.point2grid, axis=1).squeeze()\n",
    "    timer.tok(f\"apply{str(i).zfill(2)}\")\n",
    "    if value_counts is not None:\n",
    "        value_counts = value_counts.add(df.value_counts(), fill_value=0)\n",
    "    else:\n",
    "        value_counts = df.value_counts()\n",
    "    timer.tok(f\"value_counts{str(i).zfill(2)}\")\n",
    "value_counts = value_counts.to_dict()\n"
   ]
  },
  {
   "cell_type": "code",
   "execution_count": 27,
   "metadata": {},
   "outputs": [
    {
     "name": "stdout",
     "output_type": "stream",
     "text": [
      "剩44612/48068，筛掉7%\n"
     ]
    }
   ],
   "source": [
    "grid2idx = t2g.build_vocab(value_counts, lower_bound=10)\n",
    "print(f\"剩{len(grid2idx)}/{len(value_counts)}，筛掉{round(100 - 100 * len(grid2idx) / len(value_counts))}%\")\n"
   ]
  },
  {
   "cell_type": "code",
   "execution_count": null,
   "metadata": {},
   "outputs": [],
   "source": [
    "str_grid2idx = {f\"({grid[0]},{grid[1]})\": grid2idx[grid] for grid in grid2idx}\n",
    "json.dump(str_grid2idx, open(f\"data/str_grid2idx_{row_num}_{len(str_grid2idx)}.json\", \"w\"))"
   ]
  },
  {
   "cell_type": "code",
   "execution_count": 32,
   "metadata": {},
   "outputs": [],
   "source": [
    "ray.shutdown()\n",
    "import pandas as pd"
   ]
  },
  {
   "cell_type": "code",
   "execution_count": 2,
   "metadata": {},
   "outputs": [
    {
     "name": "stdout",
     "output_type": "stream",
     "text": [
      "tik start\n",
      "read data/1m_gps_20161101 done, 1.713s after tik start\n",
      "load dictdata/str_grid2idx_400_44612.json done, 2.134s after tik start\n",
      "group-apply done, 294.467s after tik start\n"
     ]
    }
   ],
   "source": [
    "file_path = \"data/1m_gps_20161101\"\n",
    "dict_path = \"data/str_grid2idx_400_44612.json\"\n",
    "\n",
    "# read data\n",
    "timer.tik()\n",
    "df = pd.DataFrame(pd.read_csv(file_path, header=None))\n",
    "df.columns = [\"name\", \"id\", \"time\", \"lon\", \"lat\"]  # lon经度 lat纬度\n",
    "timer.tok(\"read {}\".format(file_path))\n",
    "\n",
    "# load dict & set converter\n",
    "str_grid2idx = json.load(open(dict_path))\n",
    "t2g = Traj2Grid(row_num, column_num, min_lon, min_lat, max_lon, max_lat)\n",
    "grid2idx = {eval(g): str_grid2idx[g] for g in list(str_grid2idx)}\n",
    "t2g.set_vocab(grid2idx)\n",
    "timer.tok(f\"load dict{dict_path}\")\n",
    "\n",
    "\n",
    "def group_concat(group: pd.DataFrame):\n",
    "    origin_traj = [((row[\"lon\"]), row[\"lat\"])\n",
    "                   for index, row in group.iterrows()]\n",
    "    traj_1d = t2g.convert1d(origin_traj)\n",
    "    series = pd.Series({\n",
    "        \"origin_trajs\": origin_traj,\n",
    "        \"trajs\": traj_1d,\n",
    "        \"origin_len\": len(origin_traj),\n",
    "        \"len\": len(traj_1d),\n",
    "        \"max_lon\": group[\"lon\"].max(),\n",
    "        \"max_lat\": group[\"lat\"].max(),\n",
    "        \"min_lon\": group[\"lon\"].min(),\n",
    "        \"min_lat\": group[\"lat\"].min(),\n",
    "    })\n",
    "    return series\n",
    "\n",
    "\n",
    "# group-apply\n",
    "res = Parallel(n_jobs=8)(delayed(group_concat)(group)for name, group in df.groupby(\"id\"))\n",
    "df = pd.DataFrame(res)\n",
    "timer.tok(\"group-apply\")\n"
   ]
  },
  {
   "cell_type": "code",
   "execution_count": 3,
   "metadata": {},
   "outputs": [
    {
     "data": {
      "text/plain": [
       "count    5650.000000\n",
       "mean      106.143009\n",
       "std        73.535868\n",
       "min         1.000000\n",
       "25%        49.000000\n",
       "50%        94.000000\n",
       "75%       148.000000\n",
       "max       604.000000\n",
       "Name: len, dtype: float64"
      ]
     },
     "execution_count": 3,
     "metadata": {},
     "output_type": "execute_result"
    },
    {
     "data": {
      "image/png": "[encoded data removed]",
      "text/plain": [
       "<Figure size 432x288 with 1 Axes>"
      ]
     },
     "metadata": {
      "needs_background": "light"
     },
     "output_type": "display_data"
    }
   ],
   "source": [
    "df['len'].hist(bins=100)\n",
    "df['len'].describe()"
   ]
  },
  {
   "cell_type": "code",
   "execution_count": 6,
   "metadata": {},
   "outputs": [
    {
     "name": "stdout",
     "output_type": "stream",
     "text": [
      "剩4765/5650条，筛掉16%\n"
     ]
    }
   ],
   "source": [
    "\n",
    "# filter\n",
    "dff = df[:]\n",
    "pad = 0.0002\n",
    "dff = dff[(dff[\"min_lon\"] > 104.04214 + pad) & (dff[\"max_lon\"] < 104.12958 - pad)]\n",
    "dff = dff[(dff[\"min_lat\"] > 30.65294 + pad) & (dff[\"max_lat\"] < 30.72775 - pad)]\n",
    "dff = dff[(dff[\"len\"] > 10) & (dff[\"len\"] < 256)]\n",
    "\n",
    "print(f\"剩{len(dff)}/{len(df)}条，筛掉{round(100 - 100 * len(dff) / len(df))}%\")\n"
   ]
  },
  {
   "cell_type": "code",
   "execution_count": null,
   "metadata": {},
   "outputs": [],
   "source": [
    "metric = \"edr\"\n",
    "eps = 0.00029\n",
    "\n",
    "# calculate distance\n",
    "origin_trajs = dff[\"origin_trajs\"].to_list()\n",
    "arr = [np.array(origin_traj) for origin_traj in origin_trajs]\n",
    "length = len(arr)\n",
    "dis_matrix = np.zeros((length, length))\n",
    "if metric == \"edr\":\n",
    "    def cal_dis(i, j, x, y, n):\n",
    "        dis = tdist.edr(x, y, eps=eps)\n",
    "        if i == j + 1:\n",
    "            timer.tok(f'{i}-{round((i * i) / (n * n) * 100, 2)}%')\n",
    "        return i, j, dis\n",
    "\n",
    "    res = Parallel(n_jobs=44)(\n",
    "        delayed(cal_dis)(i, j, arr[i], arr[j], length - 1) for i in range(length) for j in range(i))\n",
    "    timer.tok(\"calculate distance\")\n",
    "    for (i, j, dis) in res:\n",
    "        dis_matrix[i, j] = dis\n",
    "        dis_matrix[j, i] = dis\n",
    "else:\n",
    "    raiseExceptions(\"metric {} is not supported\".format(metric))"
   ]
  },
  {
   "cell_type": "code",
   "execution_count": null,
   "metadata": {},
   "outputs": [],
   "source": [
    "full = False\n",
    "\n",
    "sorted_index = np.argsort(dis_matrix, axis=1)\n",
    "dict_save = {'trajs': dff[\"trajs\"].to_list(\n",
    "       ), \"sorted_index\": sorted_index.tolist(), 'origin_trajs': origin_trajs}\n",
    "if full:\n",
    "    dict_save[\"dis_matrix\"] = dis_matrix.tolist()\n",
    "    json.dump(dict_save, open(file_path + \"_dataset_full.json\", \"w\"))\n",
    "else:\n",
    "    json.dump(dict_save, open(file_path + \"_dataset.json\", \"w\"))\n",
    "timer.tok(\"save\")\n"
   ]
  },
  {
   "cell_type": "code",
   "execution_count": 10,
   "metadata": {},
   "outputs": [
    {
     "name": "stdout",
     "output_type": "stream",
     "text": [
      "33189\n"
     ]
    }
   ],
   "source": [
    "str_grid2idx = json.load(open(\"data/str_grid2idx_300.json\"))\n",
    "grid2idx = {eval(c): str_grid2idx[c] for c in list(str_grid2idx)}\n",
    "print(len(grid2idx))"
   ]
  },
  {
   "cell_type": "code",
   "execution_count": null,
   "metadata": {},
   "outputs": [],
   "source": [
    "max_lon = 0\n",
    "max_lat = 0\n",
    "min_lon = 999\n",
    "min_lat = 999\n",
    "timer.tik()\n",
    "for i in range(1, 31):\n",
    "    df = pd.read_csv(\"data/full/gps_201611\"+str(i).zfill(2),\n",
    "                     names=[\"name\", \"order_id\", \"time\", \"lon\", \"lat\"],\n",
    "                     usecols=[\"lon\", \"lat\"])\n",
    "    max_lon = df['lon'].max() if df['lon'].max() > max_lon else max_lon\n",
    "    min_lon = df['lon'].min() if df['lon'].min() < min_lon else min_lon\n",
    "    max_lat = df['lat'].max() if df['lat'].max() > max_lat else max_lat\n",
    "    min_lat = df['lat'].min() if df['lat'].min() < min_lat else min_lat\n",
    "    timer.tok(str(i).zfill(2))\n",
    "    print(max_lon, min_lon, max_lat, min_lat)"
   ]
  },
  {
   "cell_type": "code",
   "execution_count": 9,
   "metadata": {
    "collapsed": false,
    "pycharm": {
     "name": "#%%\n"
    }
   },
   "outputs": [
    {
     "name": "stdout",
     "output_type": "stream",
     "text": [
      "0.7862\n",
      "0.7921\n",
      "0.7029\n"
     ]
    }
   ],
   "source": [
    "with open('data/str_grid2idx_800.json') as f:\n",
    "    str_grid2idx = json.load(f)\n",
    "    f.close()\n",
    "grid2idx = {eval(c): str_grid2idx[c] for c in list(str_grid2idx)}\n",
    "\n",
    "dataset = GridEmbeddingDataset(grid2idx, window_size=20, neg_rate=100)\n",
    "model = Grid2Vec(len(dataset), 256)\n",
    "cp = torch.load('model/checkpoint_256_299_0_0.694.pth')\n",
    "model.load_state_dict(cp['model'])\n",
    "weight2 = np.load(\"model/grid_embedding_256_0.8.npy\")\n",
    "weight3 = np.load(\"model/grid_embedding_384_0.73.npy\")\n",
    "print(evaluate_grid2vec(model.input_embedding(), dataset, test_num=500))\n",
    "print(evaluate_grid2vec(weight2, dataset, test_num=500))\n",
    "print(evaluate_grid2vec(weight3, dataset, test_num=500))\n"
   ]
  }
 ],
 "metadata": {
  "kernelspec": {
   "display_name": "Python 3",
   "language": "python",
   "name": "python3"
  },
  "language_info": {
   "codemirror_mode": {
    "name": "ipython",
    "version": 3
   },
   "file_extension": ".py",
   "mimetype": "text/x-python",
   "name": "python",
   "nbconvert_exporter": "python",
   "pygments_lexer": "ipython3",
   "version": "3.8.12"
  }
 },
 "nbformat": 4,
 "nbformat_minor": 0
}
