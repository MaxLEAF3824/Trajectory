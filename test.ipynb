{
 "cells": [
  {
   "cell_type": "code",
   "execution_count": 1,
   "metadata": {},
   "outputs": [],
   "source": [
    "import numpy as np\n",
    "import torch\n",
    "from grid2vec import *\n",
    "import json\n",
    "import pandas as pd\n",
    "from utils import Timer, copy_file\n",
    "from joblib import Parallel, delayed\n",
    "from traj2grid import Traj2Grid\n",
    "import traj_dist.distance as tdist\n",
    "from logging import raiseExceptions\n",
    "from parameters import *\n",
    "import numpy as np\n",
    "import time\n",
    "\n",
    "timer = Timer()"
   ]
  },
  {
   "cell_type": "code",
   "execution_count": 6,
   "metadata": {},
   "outputs": [],
   "source": [
    "dataset_dict = json.load(open(\"data/gps_20161102_517_400_dataset_full.json\"))"
   ]
  },
  {
   "cell_type": "code",
   "execution_count": 7,
   "metadata": {},
   "outputs": [],
   "source": [
    "dis_matrix = np.array(dataset_dict['dis_matrix'])\n",
    "normalized_dis_matrix = (dis_matrix - np.min(dis_matrix)) / (np.max(dis_matrix) - np.min(dis_matrix))\n",
    "dataset_dict['dis_matrix'] = normalized_dis_matrix.tolist()"
   ]
  },
  {
   "cell_type": "code",
   "execution_count": 8,
   "metadata": {},
   "outputs": [],
   "source": [
    "json.dump(dataset_dict, open(\"data/gps_20161102_517_400_dataset_full.json\", 'w'))"
   ]
  },
  {
   "cell_type": "code",
   "execution_count": null,
   "metadata": {},
   "outputs": [],
   "source": [
    "str_grid2idx = json.load(open(\"data/str_grid2idx_300.json\"))\n",
    "grid2idx = {eval(c): str_grid2idx[c] for c in list(str_grid2idx)}\n",
    "print(len(grid2idx))"
   ]
  },
  {
   "cell_type": "code",
   "execution_count": null,
   "metadata": {},
   "outputs": [],
   "source": [
    "max_lon = 0\n",
    "max_lat = 0\n",
    "min_lon = 999\n",
    "min_lat = 999\n",
    "timer.tik()\n",
    "for i in range(1, 31):\n",
    "    df = pd.read_csv(\"data/full/gps_201611\"+str(i).zfill(2),\n",
    "                     names=[\"name\", \"order_id\", \"time\", \"lon\", \"lat\"],\n",
    "                     usecols=[\"lon\", \"lat\"])\n",
    "    max_lon = df['lon'].max() if df['lon'].max() > max_lon else max_lon\n",
    "    min_lon = df['lon'].min() if df['lon'].min() < min_lon else min_lon\n",
    "    max_lat = df['lat'].max() if df['lat'].max() > max_lat else max_lat\n",
    "    min_lat = df['lat'].min() if df['lat'].min() < min_lat else min_lat\n",
    "    timer.tok(str(i).zfill(2))\n",
    "    print(max_lon, min_lon, max_lat, min_lat)"
   ]
  },
  {
   "cell_type": "code",
   "execution_count": 3,
   "metadata": {
    "collapsed": false,
    "pycharm": {
     "name": "#%%\n"
    }
   },
   "outputs": [
    {
     "name": "stdout",
     "output_type": "stream",
     "text": [
      "0.8272\n",
      "0.8229\n",
      "0.7802\n"
     ]
    }
   ],
   "source": [
    "from grid2vec import *\n",
    "\n",
    "with open('data/str_grid2idx_400_44612.json') as f:\n",
    "    str_grid2idx = json.load(f)\n",
    "    f.close()\n",
    "grid2idx = {eval(c): str_grid2idx[c] for c in list(str_grid2idx)}\n",
    "\n",
    "dataset = GridEmbeddingDataset(grid2idx, window_size=20, neg_rate=100)\n",
    "model = Grid2Vec(len(dataset), 256)\n",
    "cp = torch.load('model/checkpoint_256_298_0_0.179.pth')\n",
    "model.load_state_dict(cp['model'])\n",
    "weight2 = np.load(\"model/grid_embedding_256_0.83.npy\")\n",
    "weight3 = np.load(\"model/grid_embedding_256_0.79.npy\")\n",
    "np.save(\"model/grid_embedding_256_\",model.input_embedding())\n",
    "# print(evaluate_grid2vec(model.input_embedding(), dataset, test_num=500))\n",
    "# print(evaluate_grid2vec(weight2, dataset, test_num=500))\n",
    "# print(evaluate_grid2vec(weight3, dataset, test_num=500))\n"
   ]
  },
  {
   "cell_type": "code",
   "execution_count": 88,
   "metadata": {},
   "outputs": [],
   "source": [
    "import torch\n",
    "\n",
    "lens = torch.randperm(4)+1\n",
    "lens = torch.tensor([3,4,5])"
   ]
  },
  {
   "cell_type": "code",
   "execution_count": 10,
   "metadata": {},
   "outputs": [
    {
     "data": {
      "text/plain": [
       "tensor([[ True, False,  True, False,  True, False],\n",
       "        [ True, False,  True,  True,  True, False],\n",
       "        [ True,  True, False, False,  True, False]])"
      ]
     },
     "execution_count": 10,
     "metadata": {},
     "output_type": "execute_result"
    }
   ],
   "source": [
    "bo = torch.rand(3,6)\n",
    "bo < 0.5"
   ]
  },
  {
   "cell_type": "code",
   "execution_count": 11,
   "metadata": {},
   "outputs": [
    {
     "data": {
      "text/plain": [
       "tensor([[[0.0000, 0.0000],\n",
       "         [0.9497, 0.2976],\n",
       "         [0.0000, 0.0000],\n",
       "         [0.1735, 0.1189],\n",
       "         [0.0000, 0.0000],\n",
       "         [0.2856, 0.5854]],\n",
       "\n",
       "        [[0.0000, 0.0000],\n",
       "         [0.3486, 0.5454],\n",
       "         [0.0000, 0.0000],\n",
       "         [0.0000, 0.0000],\n",
       "         [0.0000, 0.0000],\n",
       "         [0.0569, 0.7157]],\n",
       "\n",
       "        [[0.0000, 0.0000],\n",
       "         [0.0000, 0.0000],\n",
       "         [0.7021, 0.6735],\n",
       "         [0.8773, 0.5123],\n",
       "         [0.0000, 0.0000],\n",
       "         [0.0764, 0.3002]]])"
      ]
     },
     "execution_count": 11,
     "metadata": {},
     "output_type": "execute_result"
    }
   ],
   "source": [
    "b = torch.rand(3,6,2) # bsz, seq_len, emb_dim\n",
    "b[bo<0.5] = 0\n",
    "b"
   ]
  },
  {
   "cell_type": "code",
   "execution_count": 13,
   "metadata": {},
   "outputs": [
    {
     "data": {
      "text/plain": [
       "tensor([[[4., 4., 4., 4.],\n",
       "         [4., 4., 4., 4.],\n",
       "         [4., 4., 4., 4.]],\n",
       "\n",
       "        [[4., 4., 4., 4.],\n",
       "         [4., 4., 4., 4.],\n",
       "         [4., 4., 4., 4.]],\n",
       "\n",
       "        [[4., 4., 4., 4.],\n",
       "         [4., 4., 4., 4.],\n",
       "         [4., 4., 4., 4.]]])"
      ]
     },
     "execution_count": 13,
     "metadata": {},
     "output_type": "execute_result"
    }
   ],
   "source": [
    "import torch\n",
    "\n",
    "a  = torch.ones(3,3,4)*2\n",
    "a**2"
   ]
  },
  {
   "cell_type": "code",
   "execution_count": 12,
   "metadata": {},
   "outputs": [
    {
     "data": {
      "text/plain": [
       "tensor([[0.3656, 0.5770, 0.1925, 0.4621],\n",
       "        [0.3263, 0.5938, 0.2128, 0.2347],\n",
       "        [0.6975, 0.0644, 0.3034, 0.6363]])"
      ]
     },
     "execution_count": 12,
     "metadata": {},
     "output_type": "execute_result"
    }
   ],
   "source": [
    "a.diagonal(offset=0, dim1=0, dim2=1).transpose(0,1)"
   ]
  },
  {
   "cell_type": "code",
   "execution_count": 1,
   "metadata": {},
   "outputs": [
    {
     "data": {
      "text/plain": [
       "tensor([[1.0000, 0.7315, 0.7067],\n",
       "        [0.7315, 1.0000, 0.8817],\n",
       "        [0.7067, 0.8817, 1.0000]])"
      ]
     },
     "execution_count": 1,
     "metadata": {},
     "output_type": "execute_result"
    }
   ],
   "source": [
    "import torch\n",
    "from pytorch_metric_learning import distances\n",
    "\n",
    "\n",
    "a = torch.rand(3,4)\n",
    "dis_func = distances.DotProductSimilarity()\n",
    "\n",
    "dis_func(a)\n"
   ]
  },
  {
   "cell_type": "code",
   "execution_count": 9,
   "metadata": {},
   "outputs": [
    {
     "name": "stdout",
     "output_type": "stream",
     "text": [
      "[[0.         0.0533553  0.06445982 ... 0.74407966 0.74407966 0.78554406]\n",
      " [0.         0.04353949 0.06012968 ... 0.80820113 0.84277947 0.84320596]\n",
      " [0.         0.06461813 0.06477849 ... 0.87721509 0.88568684 0.88593939]\n",
      " ...\n",
      " [0.         0.00290518 0.02272892 ... 0.91684223 0.91684223 0.94890173]\n",
      " [0.         0.17282866 0.17412992 ... 0.78548297 0.79391543 0.79393005]\n",
      " [0.         0.01912209 0.06474774 ... 0.88887097 0.88984141 0.89029782]]\n"
     ]
    }
   ],
   "source": [
    "import json\n",
    "import numpy as np \n",
    "dis_matrix = np.array(json.load(open(\"data/test/gps_20161101_507_400_dataset_full.json\"))['dis_matrix'])\n",
    "dis_matrix = np.sort(dis_matrix, axis=1)\n",
    "print(dis_matrix)"
   ]
  }
 ],
 "metadata": {
  "kernelspec": {
   "display_name": "Python 3",
   "language": "python",
   "name": "python3"
  },
  "language_info": {
   "codemirror_mode": {
    "name": "ipython",
    "version": 3
   },
   "file_extension": ".py",
   "mimetype": "text/x-python",
   "name": "python",
   "nbconvert_exporter": "python",
   "pygments_lexer": "ipython3",
   "version": "3.8.12"
  }
 },
 "nbformat": 4,
 "nbformat_minor": 0
}
