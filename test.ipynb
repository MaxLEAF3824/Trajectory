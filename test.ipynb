{
 "cells": [
  {
   "cell_type": "code",
   "execution_count": 7,
   "metadata": {
    "collapsed": true
   },
   "outputs": [],
   "source": [
    "import numpy as np\n",
    "import torch\n",
    "from grid2vec import *\n",
    "import json"
   ]
  },
  {
   "cell_type": "code",
   "execution_count": 9,
   "metadata": {
    "collapsed": false,
    "pycharm": {
     "name": "#%%\n"
    }
   },
   "outputs": [
    {
     "name": "stdout",
     "output_type": "stream",
     "text": [
      "0.7862\n",
      "0.7921\n",
      "0.7029\n"
     ]
    }
   ],
   "source": [
    "with open('data/str_grid2idx_800.json') as f:\n",
    "    str_grid2idx = json.load(f)\n",
    "    f.close()\n",
    "grid2idx = {eval(c): str_grid2idx[c] for c in list(str_grid2idx)}\n",
    "\n",
    "dataset = GridEmbeddingDataset(grid2idx, window_size=20, neg_rate=100)\n",
    "model = Grid2Vec(len(dataset), 256)\n",
    "cp = torch.load('model/checkpoint_256_299_0_0.694.pth')\n",
    "model.load_state_dict(cp['model'])\n",
    "weight2 = np.load(\"model/grid_embedding_256_0.8.npy\")\n",
    "weight3 = np.load(\"model/grid_embedding_384_0.73.npy\")\n",
    "print(evaluate_grid2vec(model.input_embedding(), dataset, test_num=500))\n",
    "print(evaluate_grid2vec(weight2, dataset, test_num=500))\n",
    "print(evaluate_grid2vec(weight3, dataset, test_num=500))"
   ]
  },
  {
   "cell_type": "code",
   "execution_count": 6,
   "metadata": {},
   "outputs": [],
   "source": [
    "import json\n",
    "import numpy as np\n",
    "\n",
    "file_train = \"data/100k_gps_20161101_reformat.json\"\n",
    "file_train = \"data/full/gps_20161101_reformat.json\"\n",
    "d = json.load(open(file_train))\n"
   ]
  },
  {
   "cell_type": "code",
   "execution_count": 11,
   "metadata": {},
   "outputs": [
    {
     "name": "stdout",
     "output_type": "stream",
     "text": [
      "107869\n",
      "131503\n",
      "132946\n",
      "132951\n"
     ]
    }
   ],
   "source": [
    "traj_512 = [x for x in list(d['traj'].values()) if len(x) < 512]\n",
    "traj_256 = [x for x in list(d['traj'].values()) if len(x) < 256]\n",
    "traj_1024 = [x for x in list(d['traj'].values()) if len(x) < 1024]\n",
    "print(len(traj_256))\n",
    "print(len(traj_512))\n",
    "print(len(traj_1024))\n",
    "print(len(d['traj']))"
   ]
  },
  {
   "cell_type": "code",
   "execution_count": 49,
   "metadata": {},
   "outputs": [
    {
     "data": {
      "text/plain": [
       "array([1, 4, 1, 3, 5, 6, 3, 5, 6, 3, 4, 2, 5, 1, 3, 4, 1, 2, 5, 6])"
      ]
     },
     "execution_count": 49,
     "metadata": {},
     "output_type": "execute_result"
    }
   ],
   "source": [
    "import random\n",
    "\n",
    "max_len = 20\n",
    "traj = [1, 2, 3, 4, 5, 6] * 7\n",
    "\n",
    "idx = [0] + sorted(random.sample(range(1,len(traj)-1), max_len - 2)) + [len(traj)-1]\n",
    "array = np.array(traj)[idx]\n",
    "array"
   ]
  }
 ],
 "metadata": {
  "kernelspec": {
   "display_name": "Python 3",
   "language": "python",
   "name": "python3"
  },
  "language_info": {
   "codemirror_mode": {
    "name": "ipython",
    "version": 3
   },
   "file_extension": ".py",
   "mimetype": "text/x-python",
   "name": "python",
   "nbconvert_exporter": "python",
   "pygments_lexer": "ipython3",
   "version": "3.8.12"
  }
 },
 "nbformat": 4,
 "nbformat_minor": 0
}
