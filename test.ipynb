{
 "cells": [
  {
   "cell_type": "markdown",
   "metadata": {},
   "source": [
    "traj2grid测试"
   ]
  },
  {
   "cell_type": "code",
   "execution_count": 2,
   "metadata": {},
   "outputs": [
    {
     "ename": "AttributeError",
     "evalue": "'dict' object has no attribute 'to'",
     "output_type": "error",
     "traceback": [
      "\u001b[0;31m---------------------------------------------------------------------------\u001b[0m",
      "\u001b[0;31mAttributeError\u001b[0m                            Traceback (most recent call last)",
      "\u001b[1;32m/home/yqguo/coding/Trajectory/test.ipynb Cell 2'\u001b[0m in \u001b[0;36m<module>\u001b[0;34m\u001b[0m\n\u001b[1;32m      <a href='vscode-notebook-cell://ssh-remote%2B251/home/yqguo/coding/Trajectory/test.ipynb#ch0000001vscode-remote?line=1'>2</a>\u001b[0m file_name \u001b[39m=\u001b[39m \u001b[39m\"\u001b[39m\u001b[39mmodel/cp_139_loss0.273_rank_12.47.pth\u001b[39m\u001b[39m\"\u001b[39m\n\u001b[1;32m      <a href='vscode-notebook-cell://ssh-remote%2B251/home/yqguo/coding/Trajectory/test.ipynb#ch0000001vscode-remote?line=2'>3</a>\u001b[0m model \u001b[39m=\u001b[39m torch\u001b[39m.\u001b[39mload(file_name)\n\u001b[0;32m----> <a href='vscode-notebook-cell://ssh-remote%2B251/home/yqguo/coding/Trajectory/test.ipynb#ch0000001vscode-remote?line=3'>4</a>\u001b[0m model\u001b[39m.\u001b[39;49mto(\u001b[39m\"\u001b[39m\u001b[39mcpu\u001b[39m\u001b[39m\"\u001b[39m)\n",
      "\u001b[0;31mAttributeError\u001b[0m: 'dict' object has no attribute 'to'"
     ]
    }
   ],
   "source": [
    "import torch\n",
    "file_name = \"model/cp_139_loss0.273_rank_12.47.pth\"\n",
    "model = torch.load(file_name)"
   ]
  },
  {
   "cell_type": "code",
   "execution_count": 31,
   "metadata": {},
   "outputs": [],
   "source": [
    "from traj2grid import Traj2Grid\n",
    "from parameters import min_lon, max_lon, min_lat, max_lat\n",
    "import json\n",
    "str_grid2idx = json.load(open(\"data/str_grid2idx_400_44612.json\"))\n",
    "grid2idx = {eval(g): str_grid2idx[g] for g in list(str_grid2idx)}\n",
    "t2g = Traj2Grid(400, 400, min_lon, min_lat, max_lon, max_lat, grid2idx)\n",
    "model.t2g = t2g\n",
    "model.mean_x = 104.08007913272864\n",
    "model.mean_y = 30.68234119864428\n",
    "model.std_x = 0.021409964446530056\n",
    "model.std_y = 0.019668597464374094"
   ]
  },
  {
   "cell_type": "code",
   "execution_count": 32,
   "metadata": {},
   "outputs": [],
   "source": [
    "torch.save(model, f\"model/archived_model/{file_name}\")"
   ]
  },
  {
   "cell_type": "code",
   "execution_count": 25,
   "metadata": {},
   "outputs": [],
   "source": [
    "import torch\n",
    "from pytorch_metric_learning import losses, distances\n",
    "\n",
    "input1 = torch.randn(2, 4)\n",
    "input2 = torch.randn(2, 4)\n"
   ]
  },
  {
   "cell_type": "code",
   "execution_count": 30,
   "metadata": {},
   "outputs": [
    {
     "ename": "TypeError",
     "evalue": "forward() got an unexpected keyword argument 'dim'",
     "output_type": "error",
     "traceback": [
      "\u001b[0;31m---------------------------------------------------------------------------\u001b[0m",
      "\u001b[0;31mTypeError\u001b[0m                                 Traceback (most recent call last)",
      "\u001b[1;32m/home/yqguo/coding/Trajectory/test.ipynb Cell 6'\u001b[0m in \u001b[0;36m<module>\u001b[0;34m\u001b[0m\n\u001b[1;32m      <a href='vscode-notebook-cell://ssh-remote%2B251/home/yqguo/coding/Trajectory/test.ipynb#ch0000005vscode-remote?line=0'>1</a>\u001b[0m cos \u001b[39m=\u001b[39m torch\u001b[39m.\u001b[39mnn\u001b[39m.\u001b[39mCosineSimilarity()\n\u001b[1;32m      <a href='vscode-notebook-cell://ssh-remote%2B251/home/yqguo/coding/Trajectory/test.ipynb#ch0000005vscode-remote?line=1'>2</a>\u001b[0m pml_cos \u001b[39m=\u001b[39m distances\u001b[39m.\u001b[39mCosineSimilarity()\n\u001b[0;32m----> <a href='vscode-notebook-cell://ssh-remote%2B251/home/yqguo/coding/Trajectory/test.ipynb#ch0000005vscode-remote?line=3'>4</a>\u001b[0m a \u001b[39m=\u001b[39m cos((input1, input2),dim\u001b[39m=\u001b[39;49m\u001b[39m1\u001b[39;49m)\n\u001b[1;32m      <a href='vscode-notebook-cell://ssh-remote%2B251/home/yqguo/coding/Trajectory/test.ipynb#ch0000005vscode-remote?line=4'>5</a>\u001b[0m b \u001b[39m=\u001b[39m pml_cos(input1, input2)\n",
      "File \u001b[0;32m~/anaconda3/envs/workspace/lib/python3.8/site-packages/torch/nn/modules/module.py:1102\u001b[0m, in \u001b[0;36mModule._call_impl\u001b[0;34m(self, *input, **kwargs)\u001b[0m\n\u001b[1;32m   <a href='file:///home/yqguo/anaconda3/envs/workspace/lib/python3.8/site-packages/torch/nn/modules/module.py?line=1097'>1098</a>\u001b[0m \u001b[39m# If we don't have any hooks, we want to skip the rest of the logic in\u001b[39;00m\n\u001b[1;32m   <a href='file:///home/yqguo/anaconda3/envs/workspace/lib/python3.8/site-packages/torch/nn/modules/module.py?line=1098'>1099</a>\u001b[0m \u001b[39m# this function, and just call forward.\u001b[39;00m\n\u001b[1;32m   <a href='file:///home/yqguo/anaconda3/envs/workspace/lib/python3.8/site-packages/torch/nn/modules/module.py?line=1099'>1100</a>\u001b[0m \u001b[39mif\u001b[39;00m \u001b[39mnot\u001b[39;00m (\u001b[39mself\u001b[39m\u001b[39m.\u001b[39m_backward_hooks \u001b[39mor\u001b[39;00m \u001b[39mself\u001b[39m\u001b[39m.\u001b[39m_forward_hooks \u001b[39mor\u001b[39;00m \u001b[39mself\u001b[39m\u001b[39m.\u001b[39m_forward_pre_hooks \u001b[39mor\u001b[39;00m _global_backward_hooks\n\u001b[1;32m   <a href='file:///home/yqguo/anaconda3/envs/workspace/lib/python3.8/site-packages/torch/nn/modules/module.py?line=1100'>1101</a>\u001b[0m         \u001b[39mor\u001b[39;00m _global_forward_hooks \u001b[39mor\u001b[39;00m _global_forward_pre_hooks):\n\u001b[0;32m-> <a href='file:///home/yqguo/anaconda3/envs/workspace/lib/python3.8/site-packages/torch/nn/modules/module.py?line=1101'>1102</a>\u001b[0m     \u001b[39mreturn\u001b[39;00m forward_call(\u001b[39m*\u001b[39;49m\u001b[39minput\u001b[39;49m, \u001b[39m*\u001b[39;49m\u001b[39m*\u001b[39;49mkwargs)\n\u001b[1;32m   <a href='file:///home/yqguo/anaconda3/envs/workspace/lib/python3.8/site-packages/torch/nn/modules/module.py?line=1102'>1103</a>\u001b[0m \u001b[39m# Do not call functions when jit is used\u001b[39;00m\n\u001b[1;32m   <a href='file:///home/yqguo/anaconda3/envs/workspace/lib/python3.8/site-packages/torch/nn/modules/module.py?line=1103'>1104</a>\u001b[0m full_backward_hooks, non_full_backward_hooks \u001b[39m=\u001b[39m [], []\n",
      "\u001b[0;31mTypeError\u001b[0m: forward() got an unexpected keyword argument 'dim'"
     ]
    }
   ],
   "source": [
    "cos = torch.nn.CosineSimilarity()\n",
    "pml_cos = distances.CosineSimilarity()\n",
    "\n",
    "a = cos(input1, input2)\n",
    "b = pml_cos(input1, input2)"
   ]
  }
 ],
 "metadata": {
  "kernelspec": {
   "display_name": "Python 3",
   "language": "python",
   "name": "python3"
  },
  "language_info": {
   "codemirror_mode": {
    "name": "ipython",
    "version": 3
   },
   "file_extension": ".py",
   "mimetype": "text/x-python",
   "name": "python",
   "nbconvert_exporter": "python",
   "pygments_lexer": "ipython3",
   "version": "3.8.12"
  }
 },
 "nbformat": 4,
 "nbformat_minor": 0
}
