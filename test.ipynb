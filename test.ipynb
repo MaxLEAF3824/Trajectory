{
 "cells": [
  {
   "cell_type": "code",
   "execution_count": null,
   "metadata": {},
   "outputs": [],
   "source": [
    "import numpy as np\n",
    "import torch\n",
    "from grid2vec import *\n",
    "import json\n",
    "import pandas as pd\n",
    "from utils import Timer, copy_file\n",
    "from joblib import Parallel, delayed\n",
    "from traj2grid import Traj2Grid\n",
    "import traj_dist.distance as tdist\n",
    "from logging import raiseExceptions\n",
    "from parameters import *\n",
    "import numpy as np\n",
    "import time\n",
    "\n",
    "timer = Timer()"
   ]
  },
  {
   "cell_type": "code",
   "execution_count": null,
   "metadata": {},
   "outputs": [],
   "source": [
    "str_grid2idx = json.load(open(\"data/str_grid2idx_300.json\"))\n",
    "grid2idx = {eval(c): str_grid2idx[c] for c in list(str_grid2idx)}\n",
    "print(len(grid2idx))"
   ]
  },
  {
   "cell_type": "code",
   "execution_count": null,
   "metadata": {},
   "outputs": [],
   "source": [
    "max_lon = 0\n",
    "max_lat = 0\n",
    "min_lon = 999\n",
    "min_lat = 999\n",
    "timer.tik()\n",
    "for i in range(1, 31):\n",
    "    df = pd.read_csv(\"data/full/gps_201611\"+str(i).zfill(2),\n",
    "                     names=[\"name\", \"order_id\", \"time\", \"lon\", \"lat\"],\n",
    "                     usecols=[\"lon\", \"lat\"])\n",
    "    max_lon = df['lon'].max() if df['lon'].max() > max_lon else max_lon\n",
    "    min_lon = df['lon'].min() if df['lon'].min() < min_lon else min_lon\n",
    "    max_lat = df['lat'].max() if df['lat'].max() > max_lat else max_lat\n",
    "    min_lat = df['lat'].min() if df['lat'].min() < min_lat else min_lat\n",
    "    timer.tok(str(i).zfill(2))\n",
    "    print(max_lon, min_lon, max_lat, min_lat)"
   ]
  },
  {
   "cell_type": "code",
   "execution_count": null,
   "metadata": {
    "collapsed": false,
    "pycharm": {
     "name": "#%%\n"
    }
   },
   "outputs": [],
   "source": [
    "with open('data/str_grid2idx_800.json') as f:\n",
    "    str_grid2idx = json.load(f)\n",
    "    f.close()\n",
    "grid2idx = {eval(c): str_grid2idx[c] for c in list(str_grid2idx)}\n",
    "\n",
    "dataset = GridEmbeddingDataset(grid2idx, window_size=20, neg_rate=100)\n",
    "model = Grid2Vec(len(dataset), 256)\n",
    "cp = torch.load('model/checkpoint_256_299_0_0.694.pth')\n",
    "model.load_state_dict(cp['model'])\n",
    "weight2 = np.load(\"model/grid_embedding_256_0.8.npy\")\n",
    "weight3 = np.load(\"model/grid_embedding_384_0.73.npy\")\n",
    "print(evaluate_grid2vec(model.input_embedding(), dataset, test_num=500))\n",
    "print(evaluate_grid2vec(weight2, dataset, test_num=500))\n",
    "print(evaluate_grid2vec(weight3, dataset, test_num=500))\n"
   ]
  },
  {
   "cell_type": "code",
   "execution_count": 88,
   "metadata": {},
   "outputs": [],
   "source": [
    "import torch\n",
    "\n",
    "lens = torch.randperm(4)+1\n",
    "lens = torch.tensor([3,4,5])"
   ]
  },
  {
   "cell_type": "code",
   "execution_count": 98,
   "metadata": {},
   "outputs": [
    {
     "data": {
      "text/plain": [
       "tensor([False,  True, False,  True])"
      ]
     },
     "execution_count": 98,
     "metadata": {},
     "output_type": "execute_result"
    }
   ],
   "source": [
    "bo = torch.BoolTensor([True, False, True, False])\n",
    "bo.logical_not()"
   ]
  },
  {
   "cell_type": "code",
   "execution_count": 89,
   "metadata": {},
   "outputs": [
    {
     "data": {
      "text/plain": [
       "tensor([[[0.3172, 0.3270],\n",
       "         [0.4699, 0.4881],\n",
       "         [0.2954, 0.3724],\n",
       "         [0.2112, 0.0182],\n",
       "         [0.4585, 0.1890],\n",
       "         [0.1512, 0.1992]],\n",
       "\n",
       "        [[0.1341, 0.2230],\n",
       "         [0.8835, 0.2573],\n",
       "         [0.4342, 0.7426],\n",
       "         [0.3385, 0.4170],\n",
       "         [0.7168, 0.0159],\n",
       "         [0.6452, 0.2743]],\n",
       "\n",
       "        [[0.4336, 0.6928],\n",
       "         [0.1176, 0.0459],\n",
       "         [0.5240, 0.7527],\n",
       "         [0.3664, 0.7035],\n",
       "         [0.4894, 0.8480],\n",
       "         [0.1411, 0.1016]]])"
      ]
     },
     "execution_count": 89,
     "metadata": {},
     "output_type": "execute_result"
    }
   ],
   "source": [
    "b = torch.rand(3,6,2) # bsz, seq_len, emb_dim\n",
    "b"
   ]
  },
  {
   "cell_type": "code",
   "execution_count": 90,
   "metadata": {},
   "outputs": [
    {
     "data": {
      "text/plain": [
       "tensor([[[0.2112, 0.0182],\n",
       "         [0.4585, 0.1890],\n",
       "         [0.1512, 0.1992]],\n",
       "\n",
       "        [[0.3385, 0.4170],\n",
       "         [0.7168, 0.0159],\n",
       "         [0.6452, 0.2743]],\n",
       "\n",
       "        [[0.3664, 0.7035],\n",
       "         [0.4894, 0.8480],\n",
       "         [0.1411, 0.1016]]])"
      ]
     },
     "execution_count": 90,
     "metadata": {},
     "output_type": "execute_result"
    }
   ],
   "source": [
    "b[:,lens,:]"
   ]
  }
 ],
 "metadata": {
  "kernelspec": {
   "display_name": "Python 3",
   "language": "python",
   "name": "python3"
  },
  "language_info": {
   "codemirror_mode": {
    "name": "ipython",
    "version": 3
   },
   "file_extension": ".py",
   "mimetype": "text/x-python",
   "name": "python",
   "nbconvert_exporter": "python",
   "pygments_lexer": "ipython3",
   "version": "3.8.12"
  }
 },
 "nbformat": 4,
 "nbformat_minor": 0
}
