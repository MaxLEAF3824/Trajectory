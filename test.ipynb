{
 "cells": [
  {
   "cell_type": "code",
   "execution_count": 7,
   "metadata": {
    "collapsed": true
   },
   "outputs": [],
   "source": [
    "import numpy as np\n",
    "import torch\n",
    "from cell2vec import *\n",
    "import json"
   ]
  },
  {
   "cell_type": "code",
   "execution_count": 9,
   "outputs": [
    {
     "name": "stdout",
     "output_type": "stream",
     "text": [
      "0.7862\n",
      "0.7921\n",
      "0.7029\n"
     ]
    }
   ],
   "source": [
    "with open('data/str_cell2idx_800.json') as f:\n",
    "    str_cell2idx = json.load(f)\n",
    "    f.close()\n",
    "cell2idx = {eval(c): str_cell2idx[c] for c in list(str_cell2idx)}\n",
    "\n",
    "dataset = CellEmbeddingDataset(cell2idx, window_size=20, neg_rate=100)\n",
    "model = Cell2Vec(len(dataset), 256)\n",
    "cp = torch.load('model/checkpoint_256_299_0_0.694.pth')\n",
    "model.load_state_dict(cp['model'])\n",
    "weight2 = np.load(\"model/cell_embedding_256_0.8.npy\")\n",
    "weight3 = np.load(\"model/cell_embedding_384_0.73.npy\")\n",
    "print(evaluate_cell2vec(model.input_embedding(), dataset, test_num=500))\n",
    "print(evaluate_cell2vec(weight2, dataset, test_num=500))\n",
    "print(evaluate_cell2vec(weight3, dataset, test_num=500))"
   ],
   "metadata": {
    "collapsed": false,
    "pycharm": {
     "name": "#%%\n"
    }
   }
  }
 ],
 "metadata": {
  "kernelspec": {
   "display_name": "Python 3",
   "language": "python",
   "name": "python3"
  },
  "language_info": {
   "codemirror_mode": {
    "name": "ipython",
    "version": 2
   },
   "file_extension": ".py",
   "mimetype": "text/x-python",
   "name": "python",
   "nbconvert_exporter": "python",
   "pygments_lexer": "ipython2",
   "version": "2.7.6"
  }
 },
 "nbformat": 4,
 "nbformat_minor": 0
}