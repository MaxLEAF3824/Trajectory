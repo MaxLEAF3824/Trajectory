{
 "cells": [
  {
   "cell_type": "code",
   "execution_count": null,
   "metadata": {},
   "outputs": [],
   "source": [
    "import numpy as np\n",
    "import torch\n",
    "from grid2vec import *\n",
    "import json\n",
    "import pandas as pd\n",
    "from utils import Timer, copy_file\n",
    "from joblib import Parallel, delayed\n",
    "from traj2grid import Traj2Grid\n",
    "import traj_dist.distance as tdist\n",
    "from logging import raiseExceptions\n",
    "from parameters import *\n",
    "import numpy as np\n",
    "import time\n",
    "\n",
    "timer = Timer()"
   ]
  },
  {
   "cell_type": "code",
   "execution_count": null,
   "metadata": {},
   "outputs": [],
   "source": [
    "str_grid2idx = json.load(open(\"data/str_grid2idx_300.json\"))\n",
    "grid2idx = {eval(c): str_grid2idx[c] for c in list(str_grid2idx)}\n",
    "print(len(grid2idx))"
   ]
  },
  {
   "cell_type": "code",
   "execution_count": null,
   "metadata": {},
   "outputs": [],
   "source": [
    "max_lon = 0\n",
    "max_lat = 0\n",
    "min_lon = 999\n",
    "min_lat = 999\n",
    "timer.tik()\n",
    "for i in range(1, 31):\n",
    "    df = pd.read_csv(\"data/full/gps_201611\"+str(i).zfill(2),\n",
    "                     names=[\"name\", \"order_id\", \"time\", \"lon\", \"lat\"],\n",
    "                     usecols=[\"lon\", \"lat\"])\n",
    "    max_lon = df['lon'].max() if df['lon'].max() > max_lon else max_lon\n",
    "    min_lon = df['lon'].min() if df['lon'].min() < min_lon else min_lon\n",
    "    max_lat = df['lat'].max() if df['lat'].max() > max_lat else max_lat\n",
    "    min_lat = df['lat'].min() if df['lat'].min() < min_lat else min_lat\n",
    "    timer.tok(str(i).zfill(2))\n",
    "    print(max_lon, min_lon, max_lat, min_lat)"
   ]
  },
  {
   "cell_type": "code",
   "execution_count": null,
   "metadata": {
    "collapsed": false,
    "pycharm": {
     "name": "#%%\n"
    }
   },
   "outputs": [],
   "source": [
    "with open('data/str_grid2idx_800.json') as f:\n",
    "    str_grid2idx = json.load(f)\n",
    "    f.close()\n",
    "grid2idx = {eval(c): str_grid2idx[c] for c in list(str_grid2idx)}\n",
    "\n",
    "dataset = GridEmbeddingDataset(grid2idx, window_size=20, neg_rate=100)\n",
    "model = Grid2Vec(len(dataset), 256)\n",
    "cp = torch.load('model/checkpoint_256_299_0_0.694.pth')\n",
    "model.load_state_dict(cp['model'])\n",
    "weight2 = np.load(\"model/grid_embedding_256_0.8.npy\")\n",
    "weight3 = np.load(\"model/grid_embedding_384_0.73.npy\")\n",
    "print(evaluate_grid2vec(model.input_embedding(), dataset, test_num=500))\n",
    "print(evaluate_grid2vec(weight2, dataset, test_num=500))\n",
    "print(evaluate_grid2vec(weight3, dataset, test_num=500))\n"
   ]
  }
 ],
 "metadata": {
  "kernelspec": {
   "display_name": "Python 3",
   "language": "python",
   "name": "python3"
  },
  "language_info": {
   "codemirror_mode": {
    "name": "ipython",
    "version": 3
   },
   "file_extension": ".py",
   "mimetype": "text/x-python",
   "name": "python",
   "nbconvert_exporter": "python",
   "pygments_lexer": "ipython3",
   "version": "3.8.12"
  }
 },
 "nbformat": 4,
 "nbformat_minor": 0
}
